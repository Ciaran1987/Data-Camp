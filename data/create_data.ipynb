{
 "cells": [
  {
   "cell_type": "code",
   "execution_count": 2,
   "metadata": {},
   "outputs": [
    {
     "name": "stderr",
     "output_type": "stream",
     "text": [
      "C:\\Users\\Ciaran\\AppData\\Local\\Temp\\ipykernel_912\\2162656668.py:1: DeprecationWarning: \n",
      "Pyarrow will become a required dependency of pandas in the next major release of pandas (pandas 3.0),\n",
      "(to allow more performant data types, such as the Arrow string type, and better interoperability with other libraries)\n",
      "but was not found to be installed on your system.\n",
      "If this would cause problems for you,\n",
      "please provide us feedback at https://github.com/pandas-dev/pandas/issues/54466\n",
      "        \n",
      "  import pandas as pd\n"
     ]
    }
   ],
   "source": [
    "import pandas as pd\n",
    "import numpy as np"
   ]
  },
  {
   "cell_type": "code",
   "execution_count": 3,
   "metadata": {},
   "outputs": [],
   "source": [
    "#create csv of animals and their attributes\n",
    "data={\n",
    "    'animal_name':['skimmer','gull','seahorse','tuuatara','squirrel'],\n",
    "    'hair':[0,0,0,0,1],\n",
    "    'feathers':[1,1,0,0,0],\n",
    "    'eggs':[1,1,1,1,0],\n",
    "    'milk':[0,0,0,0,1],\n",
    "    'predator':[1,1,0,1,0],\n",
    "    'fins':[0,0,1,0,0],\n",
    "    'legs':[2,2,0,4,2],\n",
    "    'tail':[1,1,1,1,1],\n",
    "    'type':[2,2,4,3,1]\n",
    "}\n",
    "data = pd.DataFrame(data)\n",
    "data.to_csv('animals.csv',index=False)"
   ]
  },
  {
   "cell_type": "code",
   "execution_count": null,
   "metadata": {},
   "outputs": [],
   "source": []
  }
 ],
 "metadata": {
  "kernelspec": {
   "display_name": ".venv",
   "language": "python",
   "name": "python3"
  },
  "language_info": {
   "codemirror_mode": {
    "name": "ipython",
    "version": 3
   },
   "file_extension": ".py",
   "mimetype": "text/x-python",
   "name": "python",
   "nbconvert_exporter": "python",
   "pygments_lexer": "ipython3",
   "version": "3.11.5"
  },
  "orig_nbformat": 4
 },
 "nbformat": 4,
 "nbformat_minor": 2
}
