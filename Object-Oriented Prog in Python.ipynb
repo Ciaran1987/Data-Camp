{
 "cells": [
  {
   "cell_type": "markdown",
   "metadata": {},
   "source": [
    "# 1. OOP Fundamentals\n",
    "\n",
    "In this chapterm learn what object-oriented programming (OOP) is, how it differs from procedural-programming, and how it can be applied. Define your own classes, learn how to create methods, attributes, and constructors\n",
    "\n",
    "## 1.1 What is OOP?\n",
    "\n",
    "### Procedural Programming\n",
    "- Code as a sequence of steps\n",
    "- Great for data analysis\n",
    "\n",
    "### OOP\n",
    "- Code as interactions of objects\n",
    "- Great for building frameworks and tools\n",
    "- Maintainable and reusable code\n",
    "\n",
    "Encapsulation: Building data with code operating on it\n",
    "Class: Blueprint for objects outlining possible states and behaviours\n",
    "Attributes: Variables\n",
    "Methods: Function()"
   ]
  },
  {
   "cell_type": "code",
   "execution_count": 2,
   "metadata": {},
   "outputs": [
    {
     "data": {
      "text/plain": [
       "(4,)"
      ]
     },
     "execution_count": 2,
     "metadata": {},
     "output_type": "execute_result"
    }
   ],
   "source": [
    "#illustrate attributes\n",
    "import numpy as np\n",
    "a = np.array([1,2,3,4])\n",
    "# access the shape attribute\n",
    "a.shape\n"
   ]
  },
  {
   "cell_type": "code",
   "execution_count": 5,
   "metadata": {},
   "outputs": [
    {
     "data": {
      "text/plain": [
       "1"
      ]
     },
     "execution_count": 5,
     "metadata": {},
     "output_type": "execute_result"
    }
   ],
   "source": [
    "#illustrate methods\n",
    "a.min()"
   ]
  },
  {
   "cell_type": "markdown",
   "metadata": {},
   "source": [
    "## 1.2 Class anatomy: attributes and methods\n",
    "\n",
    "### Methods"
   ]
  },
  {
   "cell_type": "code",
   "execution_count": 6,
   "metadata": {},
   "outputs": [],
   "source": [
    "#create a Customer class\n",
    "class Customer:\n",
    "    #code for class goes here\n",
    "    pass #creates an empty class"
   ]
  },
  {
   "cell_type": "code",
   "execution_count": 8,
   "metadata": {},
   "outputs": [
    {
     "data": {
      "text/plain": [
       "<__main__.Customer at 0x1230816b7d0>"
      ]
     },
     "execution_count": 8,
     "metadata": {},
     "output_type": "execute_result"
    }
   ],
   "source": [
    "#creating object of Customer class\n",
    "c1=Customer() \n",
    "c1"
   ]
  },
  {
   "cell_type": "code",
   "execution_count": 9,
   "metadata": {},
   "outputs": [],
   "source": [
    "#add a method to a class\n",
    "class Customer:\n",
    "    def identify(self,name):\n",
    "        #note all methods defined in class must have \"self\" argument\n",
    "        print(\"I am Customer \"+name)"
   ]
  },
  {
   "cell_type": "code",
   "execution_count": 11,
   "metadata": {},
   "outputs": [
    {
     "name": "stdout",
     "output_type": "stream",
     "text": [
      "I am Customer John\n"
     ]
    }
   ],
   "source": [
    "#create cust obj and call method\n",
    "c1=Customer()\n",
    "c1.identify(\"John\") #note \"self\" not used as argument when calling method"
   ]
  },
  {
   "cell_type": "markdown",
   "metadata": {},
   "source": [
    "### Attributes\n",
    "\n",
    "Encapsulation: bundling data with methods which operate on the data\n",
    "\n",
    "Customers name should be an attribute:"
   ]
  },
  {
   "cell_type": "code",
   "execution_count": 13,
   "metadata": {},
   "outputs": [],
   "source": [
    "#add a name attribute\n",
    "class Customer:\n",
    "    def set_name(self,new_name):\n",
    "        #Create an attribute by assigning a value\n",
    "        self.name = new_name #will create .name attribute when set_name() is called\n",
    "\n",
    "    def identify(self):\n",
    "        print(\"I am Customer \"+self.name)"
   ]
  },
  {
   "cell_type": "code",
   "execution_count": 15,
   "metadata": {},
   "outputs": [
    {
     "ename": "AttributeError",
     "evalue": "'Customer' object has no attribute 'name'",
     "output_type": "error",
     "traceback": [
      "\u001b[1;31m---------------------------------------------------------------------------\u001b[0m",
      "\u001b[1;31mAttributeError\u001b[0m                            Traceback (most recent call last)",
      "Cell \u001b[1;32mIn[15], line 2\u001b[0m\n\u001b[0;32m      1\u001b[0m c1\u001b[39m=\u001b[39mCustomer()\n\u001b[1;32m----> 2\u001b[0m c1\u001b[39m.\u001b[39;49midentify()\n",
      "Cell \u001b[1;32mIn[13], line 9\u001b[0m, in \u001b[0;36mCustomer.identify\u001b[1;34m(self)\u001b[0m\n\u001b[0;32m      7\u001b[0m \u001b[39mdef\u001b[39;00m \u001b[39midentify\u001b[39m(\u001b[39mself\u001b[39m):\n\u001b[0;32m      8\u001b[0m     \u001b[39m#note all methods defined in class must have \"self\" argument\u001b[39;00m\n\u001b[1;32m----> 9\u001b[0m     \u001b[39mprint\u001b[39m(\u001b[39m\"\u001b[39m\u001b[39mI am Customer \u001b[39m\u001b[39m\"\u001b[39m\u001b[39m+\u001b[39m\u001b[39mself\u001b[39;49m\u001b[39m.\u001b[39;49mname)\n",
      "\u001b[1;31mAttributeError\u001b[0m: 'Customer' object has no attribute 'name'"
     ]
    }
   ],
   "source": [
    "c1=Customer()\n",
    "#call identify, will fail as no name set\n",
    "c1.identify()\n"
   ]
  },
  {
   "cell_type": "code",
   "execution_count": 16,
   "metadata": {},
   "outputs": [
    {
     "name": "stdout",
     "output_type": "stream",
     "text": [
      "I am Customer John\n"
     ]
    }
   ],
   "source": [
    "#set name\n",
    "c1.set_name(\"John\")\n",
    "#call identify\n",
    "c1.identify()"
   ]
  },
  {
   "cell_type": "markdown",
   "metadata": {},
   "source": [
    "## 1.3 Class anatomy: the `__init__` constructor\n",
    "\n",
    "Constructors `__init__` add data to the object when the object is being created"
   ]
  },
  {
   "cell_type": "code",
   "execution_count": 17,
   "metadata": {},
   "outputs": [],
   "source": [
    "class Customer:\n",
    "    def __init__(self,name):\n",
    "        self.name=name #create .name attribute and set to name parameter\n",
    "        print(\"The __init__ method was called\")"
   ]
  },
  {
   "cell_type": "code",
   "execution_count": 18,
   "metadata": {},
   "outputs": [
    {
     "name": "stdout",
     "output_type": "stream",
     "text": [
      "The __init__ method was called\n",
      "John\n"
     ]
    }
   ],
   "source": [
    "#now we pass name when cretaing object\n",
    "c1 = Customer(\"John\")\n",
    "print(c1.name)"
   ]
  },
  {
   "cell_type": "code",
   "execution_count": 19,
   "metadata": {},
   "outputs": [],
   "source": [
    "#lets add more attirbutes\n",
    "class Customer:\n",
    "    def __init__(self,name, balance):\n",
    "        self.name=name\n",
    "        self.balance=balance\n",
    "        print(\"The __init__ method was called\")"
   ]
  },
  {
   "cell_type": "code",
   "execution_count": 20,
   "metadata": {},
   "outputs": [
    {
     "name": "stdout",
     "output_type": "stream",
     "text": [
      "The __init__ method was called\n",
      "John\n",
      "5\n"
     ]
    }
   ],
   "source": [
    "#create object from Customer class with 2 attributes\n",
    "c1=Customer(\"John\",5)\n",
    "print(c1.name)\n",
    "print(c1.balance)"
   ]
  },
  {
   "cell_type": "code",
   "execution_count": 21,
   "metadata": {},
   "outputs": [],
   "source": [
    "#we can use default values for when attribute is not defined during creation\n",
    "class Customer:\n",
    "    def __init__(self,name, balance=0): #set balance default to 0\n",
    "        self.name=name\n",
    "        self.balance=balance\n",
    "        print(\"The __init__ method was called\")"
   ]
  },
  {
   "cell_type": "code",
   "execution_count": 22,
   "metadata": {},
   "outputs": [
    {
     "name": "stdout",
     "output_type": "stream",
     "text": [
      "The __init__ method was called\n",
      "John\n",
      "0\n"
     ]
    }
   ],
   "source": [
    "#create object from Customer class with 2 attributes\n",
    "c1=Customer(\"John\")\n",
    "print(c1.name)\n",
    "print(c1.balance)"
   ]
  },
  {
   "cell_type": "markdown",
   "metadata": {},
   "source": [
    "### Best Practices\n",
    "\n",
    "1. Initialize attributes in `__init__()` do not create attributes in other functions\n",
    "2. Naming convention: `CamelCase` for classes, `lower_snake_case` for functions and attributes\n",
    "3. Always use `self` do not rename as `this`, `that`, or `kitty`\n",
    "4. Use docstrings:\n",
    "    ```\n",
    "    class MyClass:\n",
    "        \"\"\"This class does nothing\"\"\"\n",
    "        pass\n",
    "    ```"
   ]
  },
  {
   "cell_type": "markdown",
   "metadata": {},
   "source": [
    "### write a class from scratch\n",
    "\n",
    "Define the class `Point` that has:\n",
    "- Two attributes, x and y - the coordinates of the point on the plane;\n",
    "- A constructor that accepts two arguments, x and y, that initialize the corresponding attributes. These arguments should have default value of 0.0;\n",
    "- A method distance_to_origin() that returns the distance from the point to the origin. The formula for that is `sqr(x^2+y^2)`\n",
    "- A method reflect(), that reflects the point with respect to the x- or y-axis:\n",
    "    - Accepts one argument `axis`\n",
    "    - if axis=\"x\" , it sets the y (not a typo!) attribute to the negative value of the y attribute,\n",
    "    - if axis=\"y\", it sets the x attribute to the negative value of the x attribute\n",
    "    - for any other value of axis, prints an error message."
   ]
  },
  {
   "cell_type": "code",
   "execution_count": 32,
   "metadata": {},
   "outputs": [],
   "source": [
    "class Point:\n",
    "    def __init__(self,x=0,y=0):\n",
    "        self.x=x\n",
    "        self.y=y\n",
    "\n",
    "    def distance_to_origin(self):\n",
    "        return np.sqrt(self.x**2+self.y**2)\n",
    "    \n",
    "    def reflect(self,axis):\n",
    "        if axis == 'x':\n",
    "            self.y=self.y*-1\n",
    "        elif axis == 'y':\n",
    "            self.x=self.x*-1\n",
    "        else:\n",
    "            print('Error: Axis argument not recognized')"
   ]
  },
  {
   "cell_type": "code",
   "execution_count": 33,
   "metadata": {},
   "outputs": [
    {
     "name": "stdout",
     "output_type": "stream",
     "text": [
      "5\n",
      "3\n"
     ]
    }
   ],
   "source": [
    "p1=Point(5,3)\n",
    "print(p1.x)\n",
    "print(p1.y)"
   ]
  },
  {
   "cell_type": "code",
   "execution_count": 34,
   "metadata": {},
   "outputs": [
    {
     "data": {
      "text/plain": [
       "5.830951894845301"
      ]
     },
     "execution_count": 34,
     "metadata": {},
     "output_type": "execute_result"
    }
   ],
   "source": [
    "p1.distance_to_origin()"
   ]
  },
  {
   "cell_type": "code",
   "execution_count": 35,
   "metadata": {},
   "outputs": [
    {
     "name": "stdout",
     "output_type": "stream",
     "text": [
      "5\n",
      "-3\n"
     ]
    }
   ],
   "source": [
    "p1.reflect('x')\n",
    "print(p1.x)\n",
    "print(p1.y)"
   ]
  },
  {
   "cell_type": "markdown",
   "metadata": {},
   "source": [
    "# 2. Inheritance and Polymorphism\n",
    "\n",
    "Inheritence and polymorphism are the core concepts of OOP that enable efficient and consistent code reuse.\n",
    "\n",
    "Learn how to inherit from a class, customize and redefine methods, and review the differences between class-level data and instance-level data"
   ]
  },
  {
   "cell_type": "code",
   "execution_count": null,
   "metadata": {},
   "outputs": [],
   "source": []
  }
 ],
 "metadata": {
  "kernelspec": {
   "display_name": ".venv",
   "language": "python",
   "name": "python3"
  },
  "language_info": {
   "codemirror_mode": {
    "name": "ipython",
    "version": 3
   },
   "file_extension": ".py",
   "mimetype": "text/x-python",
   "name": "python",
   "nbconvert_exporter": "python",
   "pygments_lexer": "ipython3",
   "version": "3.11.5"
  }
 },
 "nbformat": 4,
 "nbformat_minor": 2
}
