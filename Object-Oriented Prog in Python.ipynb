{
 "cells": [
  {
   "cell_type": "markdown",
   "metadata": {},
   "source": [
    "# 1. OOP Fundamentals\n",
    "\n",
    "In this chapterm learn what object-oriented programming (OOP) is, how it differs from procedural-programming, and how it can be applied. Define your own classes, learn how to create methods, attributes, and constructors\n",
    "\n",
    "## 1.1 What is OOP?\n",
    "\n",
    "### Procedural Programming\n",
    "- Code as a sequence of steps\n",
    "- Great for data analysis\n",
    "\n",
    "### OOP\n",
    "- Code as interactions of objects\n",
    "- Great for building frameworks and tools\n",
    "- Maintainable and reusable code\n",
    "\n",
    "Encapsulation: Building data with code operating on it\n",
    "Class: Blueprint for objects outlining possible states and behaviours\n",
    "Attributes: Variables\n",
    "Methods: Function()"
   ]
  },
  {
   "cell_type": "code",
   "execution_count": 2,
   "metadata": {},
   "outputs": [
    {
     "data": {
      "text/plain": [
       "(4,)"
      ]
     },
     "execution_count": 2,
     "metadata": {},
     "output_type": "execute_result"
    }
   ],
   "source": [
    "#illustrate attributes\n",
    "import numpy as np\n",
    "a = np.array([1,2,3,4])\n",
    "# access the shape attribute\n",
    "a.shape\n"
   ]
  },
  {
   "cell_type": "code",
   "execution_count": 3,
   "metadata": {},
   "outputs": [
    {
     "data": {
      "text/plain": [
       "1"
      ]
     },
     "execution_count": 3,
     "metadata": {},
     "output_type": "execute_result"
    }
   ],
   "source": [
    "#illustrate methods\n",
    "a.min()"
   ]
  },
  {
   "cell_type": "markdown",
   "metadata": {},
   "source": [
    "## 1.2 Class anatomy: attributes and methods\n",
    "\n",
    "### Methods"
   ]
  },
  {
   "cell_type": "code",
   "execution_count": 4,
   "metadata": {},
   "outputs": [],
   "source": [
    "#create a Customer class\n",
    "class Customer:\n",
    "    #code for class goes here\n",
    "    pass #creates an empty class"
   ]
  },
  {
   "cell_type": "code",
   "execution_count": 5,
   "metadata": {},
   "outputs": [
    {
     "data": {
      "text/plain": [
       "<__main__.Customer at 0x18f6644fad0>"
      ]
     },
     "execution_count": 5,
     "metadata": {},
     "output_type": "execute_result"
    }
   ],
   "source": [
    "#creating object of Customer class\n",
    "c1=Customer() \n",
    "c1"
   ]
  },
  {
   "cell_type": "code",
   "execution_count": 6,
   "metadata": {},
   "outputs": [],
   "source": [
    "#add a method to a class\n",
    "class Customer:\n",
    "    def identify(self,name):\n",
    "        #note all methods defined in class must have \"self\" argument\n",
    "        print(\"I am Customer \"+name)"
   ]
  },
  {
   "cell_type": "code",
   "execution_count": 7,
   "metadata": {},
   "outputs": [
    {
     "name": "stdout",
     "output_type": "stream",
     "text": [
      "I am Customer John\n"
     ]
    }
   ],
   "source": [
    "#create cust obj and call method\n",
    "c1=Customer()\n",
    "c1.identify(\"John\") #note \"self\" not used as argument when calling method"
   ]
  },
  {
   "cell_type": "markdown",
   "metadata": {},
   "source": [
    "### Attributes\n",
    "\n",
    "Encapsulation: bundling data with methods which operate on the data\n",
    "\n",
    "Customers name should be an attribute:"
   ]
  },
  {
   "cell_type": "code",
   "execution_count": 8,
   "metadata": {},
   "outputs": [],
   "source": [
    "#add a name attribute\n",
    "class Customer:\n",
    "    def set_name(self,new_name):\n",
    "        #Create an attribute by assigning a value\n",
    "        self.name = new_name #will create .name attribute when set_name() is called\n",
    "\n",
    "    def identify(self):\n",
    "        print(\"I am Customer \"+self.name)"
   ]
  },
  {
   "cell_type": "code",
   "execution_count": 9,
   "metadata": {},
   "outputs": [
    {
     "ename": "AttributeError",
     "evalue": "'Customer' object has no attribute 'name'",
     "output_type": "error",
     "traceback": [
      "\u001b[1;31m---------------------------------------------------------------------------\u001b[0m",
      "\u001b[1;31mAttributeError\u001b[0m                            Traceback (most recent call last)",
      "Cell \u001b[1;32mIn[9], line 3\u001b[0m\n\u001b[0;32m      1\u001b[0m c1\u001b[38;5;241m=\u001b[39mCustomer()\n\u001b[0;32m      2\u001b[0m \u001b[38;5;66;03m#call identify, will fail as no name set\u001b[39;00m\n\u001b[1;32m----> 3\u001b[0m \u001b[43mc1\u001b[49m\u001b[38;5;241;43m.\u001b[39;49m\u001b[43midentify\u001b[49m\u001b[43m(\u001b[49m\u001b[43m)\u001b[49m\n",
      "Cell \u001b[1;32mIn[8], line 8\u001b[0m, in \u001b[0;36mCustomer.identify\u001b[1;34m(self)\u001b[0m\n\u001b[0;32m      7\u001b[0m \u001b[38;5;28;01mdef\u001b[39;00m \u001b[38;5;21midentify\u001b[39m(\u001b[38;5;28mself\u001b[39m):\n\u001b[1;32m----> 8\u001b[0m     \u001b[38;5;28mprint\u001b[39m(\u001b[38;5;124m\"\u001b[39m\u001b[38;5;124mI am Customer \u001b[39m\u001b[38;5;124m\"\u001b[39m\u001b[38;5;241m+\u001b[39m\u001b[38;5;28;43mself\u001b[39;49m\u001b[38;5;241;43m.\u001b[39;49m\u001b[43mname\u001b[49m)\n",
      "\u001b[1;31mAttributeError\u001b[0m: 'Customer' object has no attribute 'name'"
     ]
    }
   ],
   "source": [
    "c1=Customer()\n",
    "#call identify, will fail as no name set\n",
    "c1.identify()\n"
   ]
  },
  {
   "cell_type": "code",
   "execution_count": 10,
   "metadata": {},
   "outputs": [
    {
     "name": "stdout",
     "output_type": "stream",
     "text": [
      "I am Customer John\n"
     ]
    }
   ],
   "source": [
    "#set name\n",
    "c1.set_name(\"John\")\n",
    "#call identify\n",
    "c1.identify()"
   ]
  },
  {
   "cell_type": "markdown",
   "metadata": {},
   "source": [
    "## 1.3 Class anatomy: the `__init__` constructor\n",
    "\n",
    "Constructors `__init__` add data to the object when the object is being created"
   ]
  },
  {
   "cell_type": "code",
   "execution_count": 11,
   "metadata": {},
   "outputs": [],
   "source": [
    "class Customer:\n",
    "    def __init__(self,name):\n",
    "        self.name=name #create .name attribute and set to name parameter\n",
    "        print(\"The __init__ method was called\")"
   ]
  },
  {
   "cell_type": "code",
   "execution_count": 12,
   "metadata": {},
   "outputs": [
    {
     "name": "stdout",
     "output_type": "stream",
     "text": [
      "The __init__ method was called\n",
      "John\n"
     ]
    }
   ],
   "source": [
    "#now we pass name when cretaing object\n",
    "c1 = Customer(\"John\")\n",
    "print(c1.name)"
   ]
  },
  {
   "cell_type": "code",
   "execution_count": 13,
   "metadata": {},
   "outputs": [],
   "source": [
    "#lets add more attirbutes\n",
    "class Customer:\n",
    "    def __init__(self,name, balance):\n",
    "        self.name=name\n",
    "        self.balance=balance\n",
    "        print(\"The __init__ method was called\")"
   ]
  },
  {
   "cell_type": "code",
   "execution_count": 14,
   "metadata": {},
   "outputs": [
    {
     "name": "stdout",
     "output_type": "stream",
     "text": [
      "The __init__ method was called\n",
      "John\n",
      "5\n"
     ]
    }
   ],
   "source": [
    "#create object from Customer class with 2 attributes\n",
    "c1=Customer(\"John\",5)\n",
    "print(c1.name)\n",
    "print(c1.balance)"
   ]
  },
  {
   "cell_type": "code",
   "execution_count": 15,
   "metadata": {},
   "outputs": [],
   "source": [
    "#we can use default values for when attribute is not defined during creation\n",
    "class Customer:\n",
    "    def __init__(self,name, balance=0): #set balance default to 0\n",
    "        self.name=name\n",
    "        self.balance=balance\n",
    "        print(\"The __init__ method was called\")"
   ]
  },
  {
   "cell_type": "code",
   "execution_count": 16,
   "metadata": {},
   "outputs": [
    {
     "name": "stdout",
     "output_type": "stream",
     "text": [
      "The __init__ method was called\n",
      "John\n",
      "0\n"
     ]
    }
   ],
   "source": [
    "#create object from Customer class with 2 attributes\n",
    "c1=Customer(\"John\")\n",
    "print(c1.name)\n",
    "print(c1.balance)"
   ]
  },
  {
   "cell_type": "markdown",
   "metadata": {},
   "source": [
    "### Best Practices\n",
    "\n",
    "1. Initialize attributes in `__init__()` do not create attributes in other functions\n",
    "2. Naming convention: `CamelCase` for classes, `lower_snake_case` for functions and attributes\n",
    "3. Always use `self` do not rename as `this`, `that`, or `kitty`\n",
    "4. Use docstrings:\n",
    "    ```\n",
    "    class MyClass:\n",
    "        \"\"\"This class does nothing\"\"\"\n",
    "        pass\n",
    "    ```"
   ]
  },
  {
   "cell_type": "markdown",
   "metadata": {},
   "source": [
    "### Excercise: write a class from scratch\n",
    "\n",
    "Define the class `Point` that has:\n",
    "- Two attributes, x and y - the coordinates of the point on the plane;\n",
    "- A constructor that accepts two arguments, x and y, that initialize the corresponding attributes. These arguments should have default value of 0.0;\n",
    "- A method distance_to_origin() that returns the distance from the point to the origin. The formula for that is `sqr(x^2+y^2)`\n",
    "- A method reflect(), that reflects the point with respect to the x- or y-axis:\n",
    "    - Accepts one argument `axis`\n",
    "    - if axis=\"x\" , it sets the y (not a typo!) attribute to the negative value of the y attribute,\n",
    "    - if axis=\"y\", it sets the x attribute to the negative value of the x attribute\n",
    "    - for any other value of axis, prints an error message."
   ]
  },
  {
   "cell_type": "code",
   "execution_count": 17,
   "metadata": {},
   "outputs": [],
   "source": [
    "class Point:\n",
    "    def __init__(self,x=0,y=0):\n",
    "        self.x=x\n",
    "        self.y=y\n",
    "\n",
    "    def distance_to_origin(self):\n",
    "        return np.sqrt(self.x**2+self.y**2)\n",
    "    \n",
    "    def reflect(self,axis):\n",
    "        if axis == 'x':\n",
    "            self.y=self.y*-1\n",
    "        elif axis == 'y':\n",
    "            self.x=self.x*-1\n",
    "        else:\n",
    "            print('Error: Axis argument not recognized')"
   ]
  },
  {
   "cell_type": "code",
   "execution_count": 26,
   "metadata": {},
   "outputs": [
    {
     "name": "stdout",
     "output_type": "stream",
     "text": [
      "5\n",
      "5\n"
     ]
    }
   ],
   "source": [
    "p1=Point(5,5)\n",
    "print(p1.x)\n",
    "print(p1.y)"
   ]
  },
  {
   "cell_type": "code",
   "execution_count": 27,
   "metadata": {},
   "outputs": [
    {
     "data": {
      "text/plain": [
       "7.0710678118654755"
      ]
     },
     "execution_count": 27,
     "metadata": {},
     "output_type": "execute_result"
    }
   ],
   "source": [
    "p1.distance_to_origin()"
   ]
  },
  {
   "cell_type": "code",
   "execution_count": 28,
   "metadata": {},
   "outputs": [
    {
     "name": "stdout",
     "output_type": "stream",
     "text": [
      "5\n",
      "-5\n"
     ]
    }
   ],
   "source": [
    "p1.reflect('x')\n",
    "print(p1.x)\n",
    "print(p1.y)"
   ]
  },
  {
   "cell_type": "markdown",
   "metadata": {},
   "source": [
    "# 2. Inheritance and Polymorphism\n",
    "\n",
    "Inheritence and polymorphism are the core concepts of OOP that enable efficient and consistent code reuse.\n",
    "\n",
    "Learn how to inherit from a class, customize and redefine methods, and review the differences between class-level data and instance-level data\n",
    "\n",
    "## 2.1 Instance and Class Data\n",
    "\n",
    "- Inheritance: Extending functinality of existing code\n",
    "- Polymorphism: creating a unified interface\n",
    "- Encapsulation: Bundling of data and methods\n",
    "\n",
    "### Instance Level Data\n",
    "This is data which is stored at the instance level; in our previous Employee class example when we created names or salaries this was done at an instance level\n"
   ]
  },
  {
   "cell_type": "code",
   "execution_count": 30,
   "metadata": {},
   "outputs": [],
   "source": [
    "class Employee:\n",
    "    def __init__(self, name, salary):\n",
    "        self.name=name\n",
    "        self.salary=salary\n",
    "\n",
    "emp1 = Employee(\"John\",1000)\n",
    "emp2 = Employee(\"Paul\",2000)"
   ]
  },
  {
   "cell_type": "markdown",
   "metadata": {},
   "source": [
    "Instance `emp1` has instance level name and salary, as does `emp2`\n"
   ]
  },
  {
   "cell_type": "code",
   "execution_count": 33,
   "metadata": {},
   "outputs": [
    {
     "name": "stdout",
     "output_type": "stream",
     "text": [
      "emp1.name:  John\n",
      "emp1.salary:  1000\n",
      "emp2.name:  Paul\n",
      "emp2.salary:  2000\n"
     ]
    }
   ],
   "source": [
    "print(\"emp1.name: \",emp1.name)\n",
    "print(\"emp1.salary: \",emp1.salary)\n",
    "\n",
    "print(\"emp2.name: \",emp2.name)\n",
    "print(\"emp2.salary: \",emp2.salary)"
   ]
  },
  {
   "cell_type": "markdown",
   "metadata": {},
   "source": [
    "\n",
    "### Class Level Data\n",
    "Alternate to Instance Level, Class Level Datais data which is shared among all instances of a class.\n",
    "\n",
    "Using the Employee class outlined above, lets say we wanted to create a minimum salary amongst all Employees:\n"
   ]
  },
  {
   "cell_type": "code",
   "execution_count": 34,
   "metadata": {},
   "outputs": [],
   "source": [
    "class Employee:\n",
    "    #define class attribute\n",
    "    MIN_SALARY = 3000 #note does not use self!\n",
    "\n",
    "    def __init__(self, name, salary):\n",
    "        self.name=name\n",
    "        #use MIN_SALARY attribute during init\n",
    "        if salary >= Employee.MIN_SALARY: #note Employee class reference!\n",
    "            self.salary=salary\n",
    "        else:\n",
    "            self.salary=Employee.MIN_SALARY\n",
    "\n",
    "emp1 = Employee(\"John\",4000)\n",
    "emp2 = Employee(\"Paul\",2000)"
   ]
  },
  {
   "cell_type": "markdown",
   "metadata": {},
   "source": [
    "- `MIN_SALARY` is shared among all instances of Employee class\n",
    "- Don't use `self`to define class attribute\n",
    "- Use `ClassName.ATTR_NAME` to access the class attribute value"
   ]
  },
  {
   "cell_type": "code",
   "execution_count": 38,
   "metadata": {},
   "outputs": [
    {
     "name": "stdout",
     "output_type": "stream",
     "text": [
      "emp1.MIN_SALARY:  3000\n",
      "emp1.name:  John\n",
      "emp1.salary:  4000\n",
      "\n",
      "\n",
      "emp2.MIN_SALARY:  3000\n",
      "emp2.name:  Paul\n",
      "emp2.salary:  3000\n"
     ]
    }
   ],
   "source": [
    "print(\"emp1.MIN_SALARY: \",emp1.MIN_SALARY)\n",
    "print(\"emp1.name: \",emp1.name)\n",
    "print(\"emp1.salary: \",emp1.salary)\n",
    "print('\\n')\n",
    "print(\"emp2.MIN_SALARY: \",emp2.MIN_SALARY)\n",
    "print(\"emp2.name: \",emp2.name)\n",
    "print(\"emp2.salary: \",emp2.salary)"
   ]
  },
  {
   "cell_type": "markdown",
   "metadata": {},
   "source": [
    "### Why use class attributes?\n",
    "Global constants related to the class\n",
    "\n",
    "- min/max values for attributes\n",
    "- commonly used values and constants, e.g. `pi` for a `Circle` class\n",
    "\n",
    "### Class methods\n",
    "- Methods are already \"shared\": same code for every instance\n",
    "- Class methods can't use instance-level data!"
   ]
  },
  {
   "cell_type": "code",
   "execution_count": 49,
   "metadata": {},
   "outputs": [],
   "source": [
    "#creating class methods\n",
    "class Employee:\n",
    "    #create Class attributes\n",
    "    TAX_RATE=0.33\n",
    "    MIN_SALARY=30000\n",
    "\n",
    "    def __init__(self, name, salary):\n",
    "        self.name=name\n",
    "        if salary >= Employee.MIN_SALARY: #note Employee class reference!\n",
    "            self.salary=salary\n",
    "        else:\n",
    "            self.salary=Employee.MIN_SALARY\n",
    "\n",
    "    @classmethod                        # use decorator \"@\" to declare a class method\n",
    "    def class_method_calculate_tax(self):   # cls argument refers to class\n",
    "        return Employee.TAX_RATE*self.salary\n",
    "    \n",
    "    #create instance method to calculate tax\n",
    "    def instance_method_calculate_tax(self):\n",
    "        return Employee.TAX_RATE*self.salary"
   ]
  },
  {
   "cell_type": "code",
   "execution_count": 50,
   "metadata": {},
   "outputs": [
    {
     "name": "stdout",
     "output_type": "stream",
     "text": [
      "emp1.name:  John\n",
      "emp1.salary:  30000\n"
     ]
    }
   ],
   "source": [
    "emp1 = Employee(\"John\",100)\n",
    "print('emp1.name: ',emp1.name)\n",
    "print('emp1.salary: ',emp1.salary)"
   ]
  },
  {
   "cell_type": "code",
   "execution_count": 53,
   "metadata": {},
   "outputs": [
    {
     "ename": "AttributeError",
     "evalue": "type object 'Employee' has no attribute 'salary'",
     "output_type": "error",
     "traceback": [
      "\u001b[1;31m---------------------------------------------------------------------------\u001b[0m",
      "\u001b[1;31mAttributeError\u001b[0m                            Traceback (most recent call last)",
      "Cell \u001b[1;32mIn[53], line 1\u001b[0m\n\u001b[1;32m----> 1\u001b[0m \u001b[43mEmployee\u001b[49m\u001b[38;5;241;43m.\u001b[39;49m\u001b[43mclass_method_calculate_tax\u001b[49m\u001b[43m(\u001b[49m\u001b[43m)\u001b[49m\n",
      "Cell \u001b[1;32mIn[49], line 16\u001b[0m, in \u001b[0;36mEmployee.class_method_calculate_tax\u001b[1;34m(self)\u001b[0m\n\u001b[0;32m     14\u001b[0m \u001b[38;5;129m@classmethod\u001b[39m                        \u001b[38;5;66;03m# use decorator \"@\" to declare a class method\u001b[39;00m\n\u001b[0;32m     15\u001b[0m \u001b[38;5;28;01mdef\u001b[39;00m \u001b[38;5;21mclass_method_calculate_tax\u001b[39m(\u001b[38;5;28mself\u001b[39m):   \u001b[38;5;66;03m# cls argument refers to class\u001b[39;00m\n\u001b[1;32m---> 16\u001b[0m     \u001b[38;5;28;01mreturn\u001b[39;00m Employee\u001b[38;5;241m.\u001b[39mTAX_RATE\u001b[38;5;241m*\u001b[39m\u001b[38;5;28;43mself\u001b[39;49m\u001b[38;5;241;43m.\u001b[39;49m\u001b[43msalary\u001b[49m\n",
      "\u001b[1;31mAttributeError\u001b[0m: type object 'Employee' has no attribute 'salary'"
     ]
    }
   ],
   "source": [
    "Employee.class_method_calculate_tax()"
   ]
  },
  {
   "cell_type": "code",
   "execution_count": 52,
   "metadata": {},
   "outputs": [
    {
     "data": {
      "text/plain": [
       "9900.0"
      ]
     },
     "execution_count": 52,
     "metadata": {},
     "output_type": "execute_result"
    }
   ],
   "source": [
    "emp1.instance_method_calculate_tax()"
   ]
  },
  {
   "cell_type": "markdown",
   "metadata": {},
   "source": [
    "### Why use class methods at all?\n",
    "\n",
    "Alternative constructors\n",
    "- A class can only have one `__init__()` method\n",
    "- However there may be multiple ways to initialize an object\n",
    "    - e.g. we may want to create employee instance from data stored in a file"
   ]
  },
  {
   "cell_type": "code",
   "execution_count": 60,
   "metadata": {},
   "outputs": [],
   "source": [
    "#create a file to read employees from\n",
    "import pandas as pd\n",
    "employees=pd.DataFrame({'name':['John','Paul','George','Ringo'],'salary':[5000,10000,20000,40000]})\n",
    "filename='./data/employees.csv'\n",
    "employees.to_csv(filename)"
   ]
  },
  {
   "cell_type": "code",
   "execution_count": 71,
   "metadata": {},
   "outputs": [],
   "source": [
    "class Employee:\n",
    "    #create Class attributes\n",
    "    MIN_SALARY=30000\n",
    "\n",
    "    def __init__(self, name, salary=Employee.MIN_SALARY):\n",
    "        self.name=name\n",
    "        if salary >= Employee.MIN_SALARY: #note Employee class reference!\n",
    "            self.salary=salary\n",
    "        else:\n",
    "            self.salary=Employee.MIN_SALARY\n",
    "\n",
    "    @classmethod                        # use decorator \"@\" to declare a class method\n",
    "    def from_file(cls, filename):       # cls argument refers to class\n",
    "        df=pd.read_csv(filename)\n",
    "        name=df['name'][0]\n",
    "        salary=df['salary'][0]\n",
    "        return cls(name,salary)"
   ]
  },
  {
   "cell_type": "markdown",
   "metadata": {},
   "source": [
    "Given the above code we can now create Employee instances via 2 methods:"
   ]
  },
  {
   "cell_type": "code",
   "execution_count": 72,
   "metadata": {},
   "outputs": [
    {
     "name": "stdout",
     "output_type": "stream",
     "text": [
      "emp1.name:  Jack\n",
      "emp1.salary:  30000\n"
     ]
    }
   ],
   "source": [
    "#create instance via __init__\n",
    "emp1=Employee(\"Jack\",1000)\n",
    "print('emp1.name: ',emp1.name)\n",
    "print('emp1.salary: ',emp1.salary)"
   ]
  },
  {
   "cell_type": "code",
   "execution_count": 74,
   "metadata": {},
   "outputs": [
    {
     "name": "stdout",
     "output_type": "stream",
     "text": [
      "emp2.name:  John\n",
      "emp2.salary:  30000\n"
     ]
    }
   ],
   "source": [
    "#create instances via class method\n",
    "emp2 = Employee.from_file(filename)\n",
    "print('emp2.name: ',emp2.name)\n",
    "print('emp2.salary: ',emp2.salary)"
   ]
  },
  {
   "cell_type": "markdown",
   "metadata": {},
   "source": [
    "### Excercise\n",
    "\n",
    "In this exercise, you will be a game developer working on a game that will have several players moving on a grid and interacting with each other. As the first step, you want to define a `Player` class that will just move along a straight line. `Player` will have a position attribute and a move() method. The grid is limited, so the position of Player will have a maximal value.\n",
    "\n",
    "- Define a class `Player` that has:\n",
    "- A class attribute `MAX_POSITION` with value `10`.\n",
    "- The `__init__()` method that sets the `position` instance attribute to `0`.\n",
    "- Print `Player.MAX_POSITION`.\n",
    "- Create a `Player` object `p` and print its `MAX_POSITION`."
   ]
  },
  {
   "cell_type": "code",
   "execution_count": 75,
   "metadata": {},
   "outputs": [],
   "source": [
    "class Player:\n",
    "    #define class attribute\n",
    "    MAX_POSITION=10\n",
    "\n",
    "    #define init method\n",
    "    def __init__(self,position=0):\n",
    "        self.position=position"
   ]
  },
  {
   "cell_type": "code",
   "execution_count": 76,
   "metadata": {},
   "outputs": [
    {
     "name": "stdout",
     "output_type": "stream",
     "text": [
      "10\n"
     ]
    }
   ],
   "source": [
    "print(Player.MAX_POSITION)"
   ]
  },
  {
   "cell_type": "code",
   "execution_count": 77,
   "metadata": {},
   "outputs": [
    {
     "name": "stdout",
     "output_type": "stream",
     "text": [
      "10\n"
     ]
    }
   ],
   "source": [
    "p=Player()\n",
    "print(p.MAX_POSITION)"
   ]
  },
  {
   "cell_type": "markdown",
   "metadata": {},
   "source": [
    "- Add a move() method with a steps parameter such that:\n",
    "    - if position plus steps is less than MAX_POSITION, then add steps to position and assign the result back to position;\n",
    "    - otherwise, set position to MAX_POSITION."
   ]
  },
  {
   "cell_type": "code",
   "execution_count": 78,
   "metadata": {},
   "outputs": [],
   "source": [
    "class Player:\n",
    "    #define class attribute\n",
    "    MAX_POSITION=10\n",
    "\n",
    "    #define init method\n",
    "    def __init__(self,position=0):\n",
    "        self.position=position\n",
    "\n",
    "    #define move method\n",
    "    def move(self,steps):\n",
    "        if self.position + steps < Player.MAX_POSITION:\n",
    "            self.position+=steps\n",
    "        else:\n",
    "            self.position=Player.MAX_POSITION"
   ]
  },
  {
   "cell_type": "code",
   "execution_count": 79,
   "metadata": {},
   "outputs": [
    {
     "name": "stdout",
     "output_type": "stream",
     "text": [
      "p.position:  0\n"
     ]
    }
   ],
   "source": [
    "p=Player()\n",
    "print('p.position: ',p.position)"
   ]
  },
  {
   "cell_type": "code",
   "execution_count": 80,
   "metadata": {},
   "outputs": [
    {
     "name": "stdout",
     "output_type": "stream",
     "text": [
      "p.position:  10\n"
     ]
    }
   ],
   "source": [
    "p.move(15)\n",
    "print('p.position: ',p.position)"
   ]
  },
  {
   "cell_type": "markdown",
   "metadata": {},
   "source": [
    "- include `MAX_SPEED` class attribute value of `3`\n",
    "- Create two Player objects `p1` and `p2`.\n",
    "- Print `p1.MAX_SPEED` and `p2.MAX_SPEED`.\n",
    "- Assign `7` to `p1.MAX_SPEED`.\n",
    "- Print `p1.MAX_SPEED` and `p2.MAX_SPEED` again.\n",
    "- Print `Player.MAX_SPEED`."
   ]
  },
  {
   "cell_type": "code",
   "execution_count": 87,
   "metadata": {},
   "outputs": [],
   "source": [
    "class Player:\n",
    "    #define class attribute\n",
    "    MAX_POSITION=10\n",
    "    MAX_SPEED=3\n",
    "\n",
    "    #define init method\n",
    "    def __init__(self,position=0):\n",
    "        self.position=position\n",
    "\n",
    "    #define move method\n",
    "    def move(self,steps):\n",
    "        if self.position + steps < Player.MAX_POSITION:\n",
    "            self.position+=steps\n",
    "        else:\n",
    "            self.position=Player.MAX_POSITION"
   ]
  },
  {
   "cell_type": "code",
   "execution_count": 88,
   "metadata": {},
   "outputs": [
    {
     "name": "stdout",
     "output_type": "stream",
     "text": [
      "p1.MAX_SPEED:  3\n",
      "p2.MAX_SPEED:  3\n"
     ]
    }
   ],
   "source": [
    "p1=Player()\n",
    "print('p1.MAX_SPEED: ',p1.MAX_SPEED)\n",
    "p2=Player()\n",
    "print('p2.MAX_SPEED: ',p2.MAX_SPEED)"
   ]
  },
  {
   "cell_type": "code",
   "execution_count": 89,
   "metadata": {},
   "outputs": [
    {
     "name": "stdout",
     "output_type": "stream",
     "text": [
      "p1.MAX_SPEED:  7\n",
      "p2.MAX_SPEED:  3\n",
      "Player.MAX_SPEED:  3\n"
     ]
    }
   ],
   "source": [
    "p1.MAX_SPEED=7\n",
    "print('p1.MAX_SPEED: ',p1.MAX_SPEED)\n",
    "print('p2.MAX_SPEED: ',p2.MAX_SPEED)\n",
    "print('Player.MAX_SPEED: ',Player.MAX_SPEED)"
   ]
  },
  {
   "cell_type": "markdown",
   "metadata": {},
   "source": [
    "- Modify the assignment to assign 7 to Player.MAX_SPEED instead."
   ]
  },
  {
   "cell_type": "code",
   "execution_count": 90,
   "metadata": {},
   "outputs": [
    {
     "name": "stdout",
     "output_type": "stream",
     "text": [
      "p1.MAX_SPEED:  7\n",
      "p2.MAX_SPEED:  9\n",
      "Player.MAX_SPEED:  9\n"
     ]
    }
   ],
   "source": [
    "Player.MAX_SPEED=9\n",
    "print('p1.MAX_SPEED: ',p1.MAX_SPEED)\n",
    "print('p2.MAX_SPEED: ',p2.MAX_SPEED)\n",
    "print('Player.MAX_SPEED: ',Player.MAX_SPEED)"
   ]
  },
  {
   "cell_type": "markdown",
   "metadata": {},
   "source": [
    "Note `p1.MAX_SPEED` did not update, this is because having previously assigned `p1.MAX_SPEED = 7` we created an instance attribute of the same name, which overwrites the Class attribute"
   ]
  },
  {
   "cell_type": "markdown",
   "metadata": {},
   "source": [
    "## 2.2 Class Inheritance\n",
    "\n",
    "Code reuse\n",
    "- Someone has already done it: you might want to modify an existing object to do specific methods for you\n",
    "- Don't Repeat Yourself (DRY)\n",
    "\n",
    "Inheritance\n",
    "- Mechanism by which we can define a new class which:\n",
    "    - gets all the functionality of an existing class\n",
    "    - plus something extra\n",
    "    - without reimplementing the code\n",
    "- New class functionality = Old class functionality + extra \n",
    "\n",
    "### Implementing class inheritance\n",
    "```python\n",
    "class MyChild(MyParent):\n",
    "    #do stuff here\n",
    "```\n",
    "\n",
    "- `MyParent`: class whose functionality is being extented/inherited\n",
    "- `MyChild`: class that will inherit the functionality and add more\n"
   ]
  },
  {
   "cell_type": "code",
   "execution_count": 91,
   "metadata": {},
   "outputs": [],
   "source": [
    "#create BankAccount class\n",
    "class BankAccount:\n",
    "    def __init__(self,balance):\n",
    "        self.balance=balance\n",
    "\n",
    "    def withdraw(self,amount):\n",
    "        self.balance-=amount\n",
    "\n",
    "#Empty class inherited from BankAccount\n",
    "class SavingsAccount(BankAccount):\n",
    "    pass"
   ]
  },
  {
   "cell_type": "markdown",
   "metadata": {},
   "source": [
    "`SavingsAccount` will inherit from `BankAccount` class"
   ]
  },
  {
   "cell_type": "code",
   "execution_count": 94,
   "metadata": {},
   "outputs": [
    {
     "name": "stdout",
     "output_type": "stream",
     "text": [
      "sav1.balance:  1000\n",
      "sav1.balance:  875\n"
     ]
    }
   ],
   "source": [
    "sav1 = SavingsAccount(1000)\n",
    "print('sav1.balance: ',sav1.balance)\n",
    "sav1.withdraw(125)\n",
    "print('sav1.balance: ',sav1.balance)"
   ]
  },
  {
   "cell_type": "markdown",
   "metadata": {},
   "source": [
    "A `SavingsAccount` is a `BankAccount`\n",
    "\n",
    "However a `BankAccount` is not a `SavingsAccount`"
   ]
  },
  {
   "cell_type": "code",
   "execution_count": 97,
   "metadata": {},
   "outputs": [
    {
     "name": "stdout",
     "output_type": "stream",
     "text": [
      "isinstance(sav1,SavingsAccount):  True\n",
      "isinstance(sav1,BankAccount):  True\n"
     ]
    }
   ],
   "source": [
    "print('isinstance(sav1,SavingsAccount): ',isinstance(sav1,SavingsAccount))\n",
    "print('isinstance(sav1,BankAccount): ',isinstance(sav1,BankAccount))"
   ]
  },
  {
   "cell_type": "code",
   "execution_count": 98,
   "metadata": {},
   "outputs": [
    {
     "name": "stdout",
     "output_type": "stream",
     "text": [
      "isinstance(act,SavingsAccount):  False\n",
      "isinstance(act,BankAccount):  True\n"
     ]
    }
   ],
   "source": [
    "act=BankAccount(10000)\n",
    "print('isinstance(act,SavingsAccount): ',isinstance(act,SavingsAccount))\n",
    "print('isinstance(act,BankAccount): ',isinstance(act,BankAccount))"
   ]
  },
  {
   "cell_type": "markdown",
   "metadata": {},
   "source": [
    "## 2.3 Customizing functionality via inheritance\n",
    "\n"
   ]
  },
  {
   "cell_type": "code",
   "execution_count": 99,
   "metadata": {},
   "outputs": [],
   "source": [
    "#customize SavingAccount constructor to include additional parameter\n",
    "class SavingsAccount(BankAccount):\n",
    "    #Constructor specifically for savings account with interest_rate parameter\n",
    "    def __init__(self,balance,interest_rate):\n",
    "        # Call parent constructor using ClassName.__init__()\n",
    "        BankAccount.__init__(self,balance)\n",
    "        # add more functionality\n",
    "        self.interest_rate = interest_rate"
   ]
  },
  {
   "cell_type": "code",
   "execution_count": 101,
   "metadata": {},
   "outputs": [
    {
     "name": "stdout",
     "output_type": "stream",
     "text": [
      "sav1.balance:  1000\n",
      "sav1.interest_rate:  0.03\n"
     ]
    }
   ],
   "source": [
    "sav1=SavingsAccount(1000,0.03)\n",
    "print('sav1.balance: ',sav1.balance)\n",
    "print('sav1.interest_rate: ',sav1.interest_rate)"
   ]
  },
  {
   "cell_type": "markdown",
   "metadata": {},
   "source": [
    "### Adding functionality\n",
    "- Add methods as usual\n",
    "- Can use the data from both the parent and child class"
   ]
  },
  {
   "cell_type": "code",
   "execution_count": null,
   "metadata": {},
   "outputs": [],
   "source": [
    "class SavingsAccount(BankAccount):\n",
    "    def __init__(self,balance,interest_rate):\n",
    "        BankAccount.__init__(self,balance)\n",
    "        self.interest_rate = interest_rate\n",
    "\n",
    "    #new functionality\n",
    "    def compute_interest(self, n_periods=1):\n",
    "        return self.balance*((1+self.interest_rate)**n_periods-1)"
   ]
  },
  {
   "cell_type": "markdown",
   "metadata": {},
   "source": [
    "### Customizing functionality\n",
    "\n",
    "Lets say we wanted to create a checking account which will inherit from parent class, with the following customizations:\n",
    "- Additional fee for withdrawal\n",
    "- Limit fee for withdrawal"
   ]
  },
  {
   "cell_type": "code",
   "execution_count": null,
   "metadata": {},
   "outputs": [],
   "source": [
    "class CheckingAccount(BankAccount):\n",
    "    def __init__(self,balance,limit):\n",
    "        BankAccount.__init__(self,balance)\n",
    "        self.limit=limit"
   ]
  },
  {
   "cell_type": "markdown",
   "metadata": {},
   "source": []
  }
 ],
 "metadata": {
  "kernelspec": {
   "display_name": ".venv",
   "language": "python",
   "name": "python3"
  },
  "language_info": {
   "codemirror_mode": {
    "name": "ipython",
    "version": 3
   },
   "file_extension": ".py",
   "mimetype": "text/x-python",
   "name": "python",
   "nbconvert_exporter": "python",
   "pygments_lexer": "ipython3",
   "version": "3.11.5"
  }
 },
 "nbformat": 4,
 "nbformat_minor": 2
}
