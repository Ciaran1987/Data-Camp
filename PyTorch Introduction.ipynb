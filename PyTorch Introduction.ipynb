{
 "cells": [
  {
   "cell_type": "markdown",
   "metadata": {},
   "source": [
    "# Imports and loading data"
   ]
  },
  {
   "cell_type": "code",
   "execution_count": 113,
   "metadata": {},
   "outputs": [],
   "source": [
    "import torch\n",
    "import torch.nn as nn\n",
    "import torch.nn.functional as F\n",
    "import torch.optim as optim\n",
    "import torchmetrics\n",
    "from torch.utils.data import TensorDataset\n",
    "from torch.utils.data import DataLoader\n",
    "\n",
    "import numpy as np\n",
    "import pandas as pd\n",
    "import matplotlib.pyplot as plt\n",
    "%matplotlib inline\n"
   ]
  },
  {
   "cell_type": "code",
   "execution_count": 3,
   "metadata": {},
   "outputs": [],
   "source": [
    "#use iris dataset for multi-class example\n",
    "from sklearn import datasets \n",
    "iris = datasets.load_iris()\n",
    "X = iris.data\n",
    "y = iris.target\n",
    "#create torch dataset\n",
    "dataset = TensorDataset(torch.tensor(X).float(),torch.tensor(y).float())"
   ]
  },
  {
   "cell_type": "markdown",
   "metadata": {},
   "source": [
    "# 1. Introduction to deep lerarning with PyTorch"
   ]
  },
  {
   "cell_type": "markdown",
   "metadata": {},
   "source": [
    "## 1.1 Intro\n",
    "### Tensors"
   ]
  },
  {
   "cell_type": "code",
   "execution_count": 4,
   "metadata": {},
   "outputs": [
    {
     "data": {
      "text/plain": [
       "tensor([[1, 2, 3],\n",
       "        [4, 5, 6]])"
      ]
     },
     "execution_count": 4,
     "metadata": {},
     "output_type": "execute_result"
    }
   ],
   "source": [
    "#create from list\n",
    "array = [[1,2,3],[4,5,6]]\n",
    "tensor = torch.tensor(array)\n",
    "tensor"
   ]
  },
  {
   "cell_type": "code",
   "execution_count": 5,
   "metadata": {},
   "outputs": [
    {
     "data": {
      "text/plain": [
       "tensor([[4, 5, 6],\n",
       "        [9, 8, 7]], dtype=torch.int32)"
      ]
     },
     "execution_count": 5,
     "metadata": {},
     "output_type": "execute_result"
    }
   ],
   "source": [
    "#create from np array\n",
    "np_array = np.array([[4,5,6],[9,8,7]])\n",
    "tensor = torch.from_numpy(np_array)\n",
    "tensor"
   ]
  },
  {
   "cell_type": "code",
   "execution_count": 6,
   "metadata": {},
   "outputs": [
    {
     "data": {
      "text/plain": [
       "torch.Size([2, 3])"
      ]
     },
     "execution_count": 6,
     "metadata": {},
     "output_type": "execute_result"
    }
   ],
   "source": [
    "#tensor shape - returns the dimensions of a tensor\n",
    "tensor.shape"
   ]
  },
  {
   "cell_type": "code",
   "execution_count": 7,
   "metadata": {},
   "outputs": [
    {
     "data": {
      "text/plain": [
       "torch.int32"
      ]
     },
     "execution_count": 7,
     "metadata": {},
     "output_type": "execute_result"
    }
   ],
   "source": [
    "#tensor data type - returns the datatype contained within\n",
    "tensor.dtype"
   ]
  },
  {
   "cell_type": "code",
   "execution_count": 8,
   "metadata": {},
   "outputs": [
    {
     "data": {
      "text/plain": [
       "device(type='cpu')"
      ]
     },
     "execution_count": 8,
     "metadata": {},
     "output_type": "execute_result"
    }
   ],
   "source": [
    "#tensor device - where tensor is loaded in memory gpu/cpu\n",
    "tensor.device"
   ]
  },
  {
   "cell_type": "markdown",
   "metadata": {},
   "source": [
    "### Tensor Operations"
   ]
  },
  {
   "cell_type": "code",
   "execution_count": 9,
   "metadata": {},
   "outputs": [
    {
     "name": "stdout",
     "output_type": "stream",
     "text": [
      "tensor([[1, 1],\n",
      "        [2, 2]])\n",
      "tensor([[2, 2],\n",
      "        [3, 3]])\n"
     ]
    }
   ],
   "source": [
    "a=torch.tensor([[1,1],[2,2]])\n",
    "b=torch.tensor([[2,2],[3,3]])\n",
    "print(a)\n",
    "print(b)"
   ]
  },
  {
   "cell_type": "code",
   "execution_count": 10,
   "metadata": {},
   "outputs": [
    {
     "data": {
      "text/plain": [
       "tensor([[2, 2],\n",
       "        [6, 6]])"
      ]
     },
     "execution_count": 10,
     "metadata": {},
     "output_type": "execute_result"
    }
   ],
   "source": [
    "#multiply\n",
    "a*b"
   ]
  },
  {
   "cell_type": "code",
   "execution_count": 11,
   "metadata": {},
   "outputs": [
    {
     "data": {
      "text/plain": [
       "tensor([[0.5000, 0.5000],\n",
       "        [0.6667, 0.6667]])"
      ]
     },
     "execution_count": 11,
     "metadata": {},
     "output_type": "execute_result"
    }
   ],
   "source": [
    "#divide\n",
    "a/b"
   ]
  },
  {
   "cell_type": "code",
   "execution_count": 12,
   "metadata": {},
   "outputs": [
    {
     "data": {
      "text/plain": [
       "tensor([[-1, -1],\n",
       "        [-1, -1]])"
      ]
     },
     "execution_count": 12,
     "metadata": {},
     "output_type": "execute_result"
    }
   ],
   "source": [
    "#subract\n",
    "a-b"
   ]
  },
  {
   "cell_type": "code",
   "execution_count": 13,
   "metadata": {},
   "outputs": [
    {
     "ename": "RuntimeError",
     "evalue": "The size of tensor a (3) must match the size of tensor b (2) at non-singleton dimension 1",
     "output_type": "error",
     "traceback": [
      "\u001b[1;31m---------------------------------------------------------------------------\u001b[0m",
      "\u001b[1;31mRuntimeError\u001b[0m                              Traceback (most recent call last)",
      "Cell \u001b[1;32mIn[13], line 5\u001b[0m\n\u001b[0;32m      3\u001b[0m a\u001b[39m=\u001b[39mtorch\u001b[39m.\u001b[39mtensor([[\u001b[39m1\u001b[39m,\u001b[39m2\u001b[39m,\u001b[39m3\u001b[39m],[\u001b[39m4\u001b[39m,\u001b[39m5\u001b[39m,\u001b[39m6\u001b[39m]])\n\u001b[0;32m      4\u001b[0m b\u001b[39m=\u001b[39mtorch\u001b[39m.\u001b[39mtensor([[\u001b[39m4\u001b[39m,\u001b[39m3\u001b[39m],[\u001b[39m5\u001b[39m,\u001b[39m9\u001b[39m]])\n\u001b[1;32m----> 5\u001b[0m a\u001b[39m-\u001b[39;49mb\n",
      "\u001b[1;31mRuntimeError\u001b[0m: The size of tensor a (3) must match the size of tensor b (2) at non-singleton dimension 1"
     ]
    }
   ],
   "source": [
    "#tensors must be compatible for operation \n",
    "#(e.g. incompatible shapes)\n",
    "a=torch.tensor([[1,2,3],[4,5,6]])\n",
    "b=torch.tensor([[4,3],[5,9]])\n",
    "a-b"
   ]
  },
  {
   "cell_type": "markdown",
   "metadata": {},
   "source": [
    "## 1.2 Creating our First Neural Network\n",
    "\n",
    "### Linear Layers"
   ]
  },
  {
   "cell_type": "code",
   "execution_count": 16,
   "metadata": {},
   "outputs": [
    {
     "data": {
      "text/plain": [
       "tensor([[-1.6159, -2.2132]], grad_fn=<AddmmBackward0>)"
      ]
     },
     "execution_count": 16,
     "metadata": {},
     "output_type": "execute_result"
    }
   ],
   "source": [
    "#create input tensor with 3 features\n",
    "input_tensor=torch.tensor([[1.0,2.2,3.1]])\n",
    "#define linear layer\n",
    "linear_layer=nn.Linear(in_features=3,out_features=2)\n",
    "#pass input tensor to linear layer to create output\n",
    "output=linear_layer(input_tensor)\n",
    "output"
   ]
  },
  {
   "cell_type": "markdown",
   "metadata": {},
   "source": [
    "Each linear layer contains weights and, these are used to compute the layers output (formula below), these weights and biases are initialized to random values and are not useful until they are trained through back propagation\n",
    "\n",
    "$$y_0=W_0\\cdot X+b_0$$\n",
    "\n",
    "Where:\n",
    "- y0 : output\n",
    "- W0 : Weight 0\n",
    "- B0 : Bias 0\n",
    "- X : input"
   ]
  },
  {
   "cell_type": "code",
   "execution_count": 17,
   "metadata": {},
   "outputs": [
    {
     "data": {
      "text/plain": [
       "Parameter containing:\n",
       "tensor([[-0.4633, -0.1475, -0.2981],\n",
       "        [ 0.4173, -0.4987, -0.4079]], requires_grad=True)"
      ]
     },
     "execution_count": 17,
     "metadata": {},
     "output_type": "execute_result"
    }
   ],
   "source": [
    "#weight attribute\n",
    "linear_layer.weight"
   ]
  },
  {
   "cell_type": "code",
   "execution_count": 18,
   "metadata": {},
   "outputs": [
    {
     "data": {
      "text/plain": [
       "Parameter containing:\n",
       "tensor([ 0.0960, -0.2687], requires_grad=True)"
      ]
     },
     "execution_count": 18,
     "metadata": {},
     "output_type": "execute_result"
    }
   ],
   "source": [
    "#bias attribute\n",
    "linear_layer.bias"
   ]
  },
  {
   "cell_type": "markdown",
   "metadata": {},
   "source": [
    "### Stacking multiple layers\n",
    "\n",
    "We can combined multiple layers together in a neural network"
   ]
  },
  {
   "cell_type": "code",
   "execution_count": 19,
   "metadata": {},
   "outputs": [],
   "source": [
    "#create network with three linear layers\n",
    "#accomodating 10 input feats, return 2 output feats\n",
    "model = nn.Sequential(\n",
    "    nn.Linear(10,18),\n",
    "    nn.Linear(18,20),\n",
    "    nn.Linear(20,2)\n",
    ")"
   ]
  },
  {
   "cell_type": "code",
   "execution_count": 22,
   "metadata": {},
   "outputs": [
    {
     "name": "stdout",
     "output_type": "stream",
     "text": [
      "input_tensor:  tensor([0.0501, 0.2403, 0.9182, 0.6612, 0.3534, 0.4971, 0.8569, 0.4130, 0.8989,\n",
      "        0.7452])\n",
      "output_tensor:  tensor([-0.0005,  0.1278], grad_fn=<ViewBackward0>)\n"
     ]
    }
   ],
   "source": [
    "#create input tensor of random floats\n",
    "input_tensor = torch.from_numpy(np.random.rand(10)).float()\n",
    "print('input_tensor: ',input_tensor)\n",
    "#pass input tensor to stacked model\n",
    "output_tensor=model(input_tensor)\n",
    "print('output_tensor: ',output_tensor)"
   ]
  },
  {
   "cell_type": "markdown",
   "metadata": {},
   "source": [
    "## 1.3 Discovering Activation Functions\n",
    "\n",
    "Activation functions add non-linearity to the newtwork\n",
    "\n",
    "A model can learn more complex relationships with non-linearity\n",
    "\n",
    "### Sigmoid function\n",
    "\n",
    "Transform to output single value ranging 0:1 for binary classification"
   ]
  },
  {
   "cell_type": "code",
   "execution_count": 46,
   "metadata": {},
   "outputs": [
    {
     "data": {
      "text/plain": [
       "Text(0.5, 1.0, 'Sigmoid Activation Function')"
      ]
     },
     "execution_count": 46,
     "metadata": {},
     "output_type": "execute_result"
    },
    {
     "data": {
      "image/png": "[encoded data removed]",
      "text/plain": [
       "<Figure size 640x480 with 1 Axes>"
      ]
     },
     "metadata": {},
     "output_type": "display_data"
    }
   ],
   "source": [
    "sigmoid_dict={'x':[], 'y':[]}\n",
    "\n",
    "#iterate through values -10:10  calculate sigmoid output\n",
    "for i in range(-10,10,1):\n",
    "    sigmoid_dict['x'].append(i)\n",
    "    input_tensor = torch.tensor([[float(i)]])\n",
    "    sigmoid = nn.Sigmoid()\n",
    "    output = sigmoid(input_tensor)\n",
    "    sigmoid_dict['y'].append(output.item())\n",
    "\n",
    "#plot sigmoid function\n",
    "plt.plot(sigmoid_dict['x'],sigmoid_dict['y'])\n",
    "plt.xlabel('Input value')\n",
    "plt.ylabel('Output value')\n",
    "plt.title('Sigmoid Activation Function')"
   ]
  },
  {
   "cell_type": "code",
   "execution_count": 47,
   "metadata": {},
   "outputs": [
    {
     "data": {
      "text/plain": [
       "tensor([0.5481], grad_fn=<SigmoidBackward0>)"
      ]
     },
     "execution_count": 47,
     "metadata": {},
     "output_type": "execute_result"
    }
   ],
   "source": [
    "#combine sequential model to transform 10 inputs to binray ouput\n",
    "model=nn.Sequential(\n",
    "    nn.Linear(6,4),\n",
    "    nn.Linear(4,1),\n",
    "    nn.Sigmoid(),\n",
    ")\n",
    "\n",
    "input_tensor = torch.from_numpy(np.random.rand(6)).float()\n",
    "model(input_tensor)"
   ]
  },
  {
   "cell_type": "markdown",
   "metadata": {},
   "source": [
    "### Softmax\n",
    "\n",
    "Used for multi-class classifier, returns probability distribution across all potential classes"
   ]
  },
  {
   "cell_type": "code",
   "execution_count": 49,
   "metadata": {},
   "outputs": [
    {
     "name": "stdout",
     "output_type": "stream",
     "text": [
      "tensor([[0.1392, 0.8420, 0.0188]])\n"
     ]
    }
   ],
   "source": [
    "#create input tensor\n",
    "input_tensor = torch.tensor([[4.3,6.1,2.3]])\n",
    "#apply softmax along the last dimension\n",
    "probabilities = nn.Softmax(dim=-1)\n",
    "output_tensor = probabilities(input_tensor)\n",
    "print(output_tensor)"
   ]
  },
  {
   "cell_type": "code",
   "execution_count": 50,
   "metadata": {},
   "outputs": [
    {
     "data": {
      "text/plain": [
       "tensor([4.3000, 6.1000, 2.3000])"
      ]
     },
     "execution_count": 50,
     "metadata": {},
     "output_type": "execute_result"
    }
   ],
   "source": [
    "#dim -1 applies softmax to last dimension only:\n",
    "input_tensor = torch.tensor([[2.7,4.5,6.3],[4.3,6.1,2.3]])\n",
    "input_tensor[-1]"
   ]
  },
  {
   "cell_type": "code",
   "execution_count": 51,
   "metadata": {},
   "outputs": [
    {
     "name": "stderr",
     "output_type": "stream",
     "text": [
      "c:\\Users\\Ciaran\\Documents\\Python Scripts\\Data Camp\\.venv\\Lib\\site-packages\\torch\\nn\\modules\\module.py:1518: UserWarning: Implicit dimension choice for softmax has been deprecated. Change the call to include dim=X as an argument.\n",
      "  return self._call_impl(*args, **kwargs)\n"
     ]
    },
    {
     "data": {
      "text/plain": [
       "tensor([0.3392, 0.2526, 0.2077, 0.2004], grad_fn=<SoftmaxBackward0>)"
      ]
     },
     "execution_count": 51,
     "metadata": {},
     "output_type": "execute_result"
    }
   ],
   "source": [
    "#use sequential model to stack layers for:\n",
    "#6 input features\n",
    "#returning sigmoid output of 4 classes\n",
    "\n",
    "model=nn.Sequential(\n",
    "    nn.Linear(6,10),\n",
    "    nn.Linear(10,4),\n",
    "    nn.Softmax()\n",
    ")\n",
    "\n",
    "input_tensor = torch.from_numpy(np.random.rand(6)).float()\n",
    "model(input_tensor)"
   ]
  },
  {
   "cell_type": "markdown",
   "metadata": {},
   "source": [
    "# 2. Training Our First Neural Network with PyTorch\n",
    "\n",
    "To train a neural network in PyTorch, you will first need to understand the job of a loss function. You will then relize that training a network requires minimizing that loss function, which is done by calculating gradients. You will learn how to use these gradients to update your models parameters and finally write training loops\n",
    "\n",
    "## 2.1 Running a Forward Pass\n",
    "\n",
    "What is forward Pass:\n",
    "- Input data is passed forward or propogated through the network\n",
    "- Computations performed at each layer\n",
    "- Outputs of each layer passed to each subsequent layer\n",
    "- Output of final layer: \"prediction\"\n",
    "- Used for both training and prediction\n",
    "\n",
    "Possible outputs:\n",
    "- Binary Classfifcation: Single probability betwenn 0:1\n",
    "- Multiclass Classfifcation: Distribution of probabilities summing to 1\n",
    "- Regression Values: Continuous numerical prediction"
   ]
  },
  {
   "cell_type": "markdown",
   "metadata": {},
   "source": [
    "### Binary Classification"
   ]
  },
  {
   "cell_type": "code",
   "execution_count": 53,
   "metadata": {},
   "outputs": [
    {
     "data": {
      "text/plain": [
       "tensor([[5.1000, 3.5000, 1.4000, 0.2000],\n",
       "        [4.9000, 3.0000, 1.4000, 0.2000],\n",
       "        [4.7000, 3.2000, 1.3000, 0.2000],\n",
       "        [4.6000, 3.1000, 1.5000, 0.2000],\n",
       "        [5.0000, 3.6000, 1.4000, 0.2000],\n",
       "        [5.4000, 3.9000, 1.7000, 0.4000]])"
      ]
     },
     "execution_count": 53,
     "metadata": {},
     "output_type": "execute_result"
    }
   ],
   "source": [
    "#take first 5 rows of iris input features\n",
    "input_data = dataset[0:6][0]\n",
    "input_data"
   ]
  },
  {
   "cell_type": "code",
   "execution_count": 54,
   "metadata": {},
   "outputs": [],
   "source": [
    "#create binary classification model\n",
    "model=nn.Sequential(\n",
    "    nn.Linear(4,6), #first linear layer accepts 4 input feats\n",
    "    nn.Linear(6,1), #second layer returns single value\n",
    "    nn.Sigmoid() #sigmoid function returns probability value 0:1\n",
    ")"
   ]
  },
  {
   "cell_type": "code",
   "execution_count": 56,
   "metadata": {},
   "outputs": [
    {
     "data": {
      "text/plain": [
       "tensor([[0.7452],\n",
       "        [0.7391],\n",
       "        [0.7377],\n",
       "        [0.7476],\n",
       "        [0.7471],\n",
       "        [0.7601]], grad_fn=<SigmoidBackward0>)"
      ]
     },
     "execution_count": 56,
     "metadata": {},
     "output_type": "execute_result"
    }
   ],
   "source": [
    "#pass input through model\n",
    "output = model(input_data)\n",
    "output"
   ]
  },
  {
   "cell_type": "markdown",
   "metadata": {},
   "source": [
    "### Multiclass Classification"
   ]
  },
  {
   "cell_type": "code",
   "execution_count": 57,
   "metadata": {},
   "outputs": [
    {
     "name": "stdout",
     "output_type": "stream",
     "text": [
      "tensor([[0.8212, 0.0509, 0.1279],\n",
      "        [0.8106, 0.0584, 0.1309],\n",
      "        [0.8080, 0.0589, 0.1331],\n",
      "        [0.8090, 0.0609, 0.1301],\n",
      "        [0.8210, 0.0510, 0.1280],\n",
      "        [0.8410, 0.0445, 0.1144]], grad_fn=<SoftmaxBackward0>)\n"
     ]
    }
   ],
   "source": [
    "#create multi-class classification model\n",
    "model=nn.Sequential(\n",
    "    nn.Linear(4,6), #first linear layer accepts 4 input feats\n",
    "    nn.Linear(6,3), #second layer returns 3 values\n",
    "    nn.Softmax(dim=-1) #softmax function returns probability across 3 classes\n",
    ")\n",
    "\n",
    "#pass input to model\n",
    "output=model(input_data)\n",
    "print(output)"
   ]
  },
  {
   "cell_type": "markdown",
   "metadata": {},
   "source": [
    "### Regression"
   ]
  },
  {
   "cell_type": "code",
   "execution_count": 58,
   "metadata": {},
   "outputs": [
    {
     "name": "stdout",
     "output_type": "stream",
     "text": [
      "tensor([[0.2289],\n",
      "        [0.1581],\n",
      "        [0.1944],\n",
      "        [0.1273],\n",
      "        [0.2346],\n",
      "        [0.2537]], grad_fn=<AddmmBackward0>)\n"
     ]
    }
   ],
   "source": [
    "#create regression model\n",
    "model=nn.Sequential(\n",
    "    nn.Linear(4,6), #first linear layer accepts 4 input feats\n",
    "    nn.Linear(6,1), #second layer returns single value\n",
    ")\n",
    "\n",
    "#pass input to model\n",
    "output=model(input_data)\n",
    "print(output)"
   ]
  },
  {
   "cell_type": "markdown",
   "metadata": {},
   "source": [
    "## 2.2 Using loss function to asses model predictions\n",
    "\n",
    "Why do we need a loss function?\n",
    "- Gives feedback to model during training\n",
    "- Takes in model preidction y^ and ground truth y\n",
    "- Outputs a float"
   ]
  },
  {
   "cell_type": "code",
   "execution_count": 62,
   "metadata": {},
   "outputs": [
    {
     "name": "stdout",
     "output_type": "stream",
     "text": [
      "0\n",
      "tensor([1, 0, 0])\n",
      "1\n",
      "tensor([0, 1, 0])\n",
      "2\n",
      "tensor([0, 0, 1])\n"
     ]
    }
   ],
   "source": [
    "# use 1-hot encoding to transform numeric label to vector\n",
    "for i in range(3):\n",
    "    one_hot = F.one_hot(torch.tensor(i),num_classes=3)\n",
    "    print(i)\n",
    "    print(one_hot)"
   ]
  },
  {
   "cell_type": "markdown",
   "metadata": {},
   "source": [
    "### Cross entropy loss in PyTorch\n",
    "\n",
    "Loss function inputs:\n",
    "- scores: model predictions before final softmax\n",
    "- on hot target: one hot encoded ground truth label\n",
    "\n",
    "Loss function outputs:\n",
    "- loss: a single float value (small value indicates better prediction)\n",
    "\n",
    "goal is to minimize loss"
   ]
  },
  {
   "cell_type": "code",
   "execution_count": 65,
   "metadata": {},
   "outputs": [
    {
     "data": {
      "text/plain": [
       "tensor(1.2193, dtype=torch.float64)"
      ]
     },
     "execution_count": 65,
     "metadata": {},
     "output_type": "execute_result"
    }
   ],
   "source": [
    "#lets say we have a 3 class multi-class prediction problem\n",
    "#our predicted probability distribution\n",
    "prediction=torch.tensor([0.65,0.11,0.24])\n",
    "#ground truth class is 2\n",
    "g_truth=2\n",
    "#one-hot encode\n",
    "one_hot = F.one_hot(torch.tensor(g_truth),num_classes=3)\n",
    "#instantiate cross entropy loss object\n",
    "criterion = nn.CrossEntropyLoss()\n",
    "#return loss value comparing predicted to grount truth\n",
    "criterion(prediction.double(),one_hot.double())"
   ]
  },
  {
   "cell_type": "code",
   "execution_count": 71,
   "metadata": {},
   "outputs": [
    {
     "data": {
      "text/plain": [
       "tensor(0.5514, dtype=torch.float64)"
      ]
     },
     "execution_count": 71,
     "metadata": {},
     "output_type": "execute_result"
    }
   ],
   "source": [
    "#compare loss for correct prediction\n",
    "prediction=torch.tensor([1.0,0.0,0.0])\n",
    "one_hot = F.one_hot(torch.tensor(0),num_classes=3)\n",
    "criterion(prediction.double(),one_hot.double())"
   ]
  },
  {
   "cell_type": "markdown",
   "metadata": {},
   "source": [
    "## 2.3 Using derivatives to update model parameters\n",
    "\n",
    "When training we need to minimize loss\n",
    "\n",
    "Using walking into valley as analogy:\n",
    "- Steep slope: a step results in large loss of elevation (high derivative)\n",
    "- Gentle slope: a step results in small loss of elevation (low derivative)\n",
    "- No slope: Bottom of valley, step results in no elevation loss (null derivative)\n",
    "\n",
    "### Back propagation\n",
    "Consider a network consisting of 3 layers: L0, L1, L2\n",
    "- We calculate the local gradients for each layer using back propagation\n",
    "- We calculate loss gradients with respect to L2, then use L2 gradients to calculate L1 gradients, and so on"
   ]
  },
  {
   "cell_type": "code",
   "execution_count": 182,
   "metadata": {},
   "outputs": [
    {
     "data": {
      "text/plain": [
       "(tensor([[5.0000, 2.0000, 3.5000, 1.0000],\n",
       "         [4.3000, 3.0000, 1.1000, 0.1000],\n",
       "         [7.6000, 3.0000, 6.6000, 2.1000],\n",
       "         [6.9000, 3.1000, 5.1000, 2.3000],\n",
       "         [5.4000, 3.4000, 1.7000, 0.2000]]),\n",
       " tensor([1., 0., 2., 2., 0.]))"
      ]
     },
     "execution_count": 182,
     "metadata": {},
     "output_type": "execute_result"
    }
   ],
   "source": [
    "#select 5 rows from iris dataset at rand\n",
    "rand_idx=np.random.randint(0,y.shape[0],5)\n",
    "sample_set=dataset[rand_idx]\n",
    "sample_set"
   ]
  },
  {
   "cell_type": "code",
   "execution_count": 183,
   "metadata": {},
   "outputs": [
    {
     "data": {
      "text/plain": [
       "tensor([[0.4391, 0.0426, 0.5183],\n",
       "        [0.4511, 0.0766, 0.4723],\n",
       "        [0.4345, 0.0121, 0.5534],\n",
       "        [0.4835, 0.0178, 0.4987],\n",
       "        [0.4565, 0.0537, 0.4898]], grad_fn=<SoftmaxBackward0>)"
      ]
     },
     "execution_count": 183,
     "metadata": {},
     "output_type": "execute_result"
    }
   ],
   "source": [
    "#create model and run forward pass\n",
    "model=nn.Sequential(\n",
    "    nn.Linear(4,6),\n",
    "    nn.LeakyReLU(),\n",
    "    nn.Linear(6,3),\n",
    "    nn.Softmax(dim=-1)\n",
    ")\n",
    "prediction = model(sample_set[0])\n",
    "prediction"
   ]
  },
  {
   "cell_type": "code",
   "execution_count": 184,
   "metadata": {},
   "outputs": [],
   "source": [
    "#calculate loss and compute gradients\n",
    "criterion=nn.CrossEntropyLoss()\n",
    "loss=criterion(prediction,sample_set[1].long())\n",
    "#initiate back propagation\n",
    "loss.backward()"
   ]
  },
  {
   "cell_type": "code",
   "execution_count": 185,
   "metadata": {},
   "outputs": [
    {
     "name": "stdout",
     "output_type": "stream",
     "text": [
      "\n",
      "Layer:  0\n",
      "Weight:  Parameter containing:\n",
      "tensor([[ 0.1785, -0.1756,  0.4880, -0.1493],\n",
      "        [ 0.4510, -0.0177,  0.0288,  0.2869],\n",
      "        [ 0.0270, -0.4527, -0.4003,  0.2359],\n",
      "        [ 0.1525, -0.0521,  0.0110,  0.3992],\n",
      "        [-0.2708,  0.3412, -0.0997, -0.4745],\n",
      "        [ 0.2572,  0.2450,  0.3949,  0.3635]], requires_grad=True)\n",
      "Weight gradient:  tensor([[-6.1183e-02,  2.0776e-03, -1.1089e-01, -5.1591e-02],\n",
      "        [-8.8642e-03, -5.4706e-03, -6.0265e-03, -2.9771e-03],\n",
      "        [ 3.5409e-04, -1.9668e-05,  6.5508e-04,  3.0454e-04],\n",
      "        [ 9.0658e-02, -2.9620e-03,  1.6411e-01,  7.6355e-02],\n",
      "        [-6.2518e-04,  6.8774e-05, -1.2158e-03, -5.6422e-04],\n",
      "        [ 2.9337e-03, -4.7856e-03,  1.3469e-02,  6.1252e-03]])\n",
      "Bias:  Parameter containing:\n",
      "tensor([ 0.1947, -0.0958, -0.0992,  0.1769, -0.0610, -0.2224],\n",
      "       requires_grad=True)\n",
      "Bias gradient:  tensor([-1.5262e-05, -6.2766e-04, -7.4000e-07,  3.5249e-05,  4.9963e-06,\n",
      "        -5.0707e-04])\n",
      "\n",
      "Layer:  1\n",
      "LeakyReLU(negative_slope=0.01)\n",
      "\n",
      "Layer:  2\n",
      "Weight:  Parameter containing:\n",
      "tensor([[-0.2631,  0.0898,  0.1238,  0.1621,  0.0443,  0.0118],\n",
      "        [-0.2403, -0.2550,  0.0646,  0.1354,  0.3543, -0.2719],\n",
      "        [ 0.0046,  0.1106, -0.0334, -0.2342,  0.3326, -0.0156]],\n",
      "       requires_grad=True)\n",
      "Weight gradient:  tensor([[ 2.1891e-01,  1.6698e-01, -1.0621e-03,  1.1678e-01, -2.0135e-03,\n",
      "          2.8823e-01],\n",
      "        [-3.6390e-03,  3.7789e-03, -4.9001e-05, -1.5770e-05,  4.4264e-05,\n",
      "          2.5278e-03],\n",
      "        [-2.1527e-01, -1.7076e-01,  1.1111e-03, -1.1676e-01,  1.9692e-03,\n",
      "         -2.9076e-01]])\n",
      "Bias:  Parameter containing:\n",
      "tensor([ 0.2525, -0.2921,  0.3477], requires_grad=True)\n",
      "Bias gradient:  tensor([-0.0016,  0.0018, -0.0002])\n"
     ]
    }
   ],
   "source": [
    "#access each layers gradients\n",
    "for layer in range(3):\n",
    "    print('\\nLayer: ',layer)\n",
    "    if 'weight' in model[layer].state_dict():\n",
    "        print('Weight: ',model[layer].weight)\n",
    "        print('Weight gradient: ',model[layer].weight.grad)\n",
    "        print('Bias: ',model[layer].bias)\n",
    "        print('Bias gradient: ',model[layer].bias.grad)\n",
    "    else:\n",
    "        print(model[layer])"
   ]
  },
  {
   "cell_type": "markdown",
   "metadata": {},
   "source": [
    "Given one forward pass, we have the above weights and biases, to train the model to accurately predict, we will need to update the weights using back propagation and gradient descent"
   ]
  },
  {
   "cell_type": "markdown",
   "metadata": {},
   "source": [
    "### Gradient descent\n",
    "- For non-convex functions, we will use an iterative process (gradient descent)\n",
    "- In PyTorch, an optimizer takes care of weight updates\n",
    "- The most common optimizer is stochastic gradient descent (SGD)\n",
    "- Optimizer handles updating model weights after calculation of local gradients"
   ]
  },
  {
   "cell_type": "code",
   "execution_count": 186,
   "metadata": {},
   "outputs": [],
   "source": [
    "#create an optimizer\n",
    "optimizer = optim.SGD(model.parameters(),lr=0.1)\n",
    "#update parameters based upon calculated gradients\n",
    "optimizer.step()"
   ]
  },
  {
   "cell_type": "code",
   "execution_count": 187,
   "metadata": {},
   "outputs": [
    {
     "name": "stdout",
     "output_type": "stream",
     "text": [
      "\n",
      "Layer:  0\n",
      "Weight:  Parameter containing:\n",
      "tensor([[ 0.1846, -0.1758,  0.4991, -0.1442],\n",
      "        [ 0.4519, -0.0171,  0.0294,  0.2872],\n",
      "        [ 0.0270, -0.4527, -0.4004,  0.2358],\n",
      "        [ 0.1435, -0.0518, -0.0054,  0.3915],\n",
      "        [-0.2708,  0.3412, -0.0996, -0.4744],\n",
      "        [ 0.2569,  0.2455,  0.3936,  0.3629]], requires_grad=True)\n",
      "Weight gradient:  tensor([[-6.1183e-02,  2.0776e-03, -1.1089e-01, -5.1591e-02],\n",
      "        [-8.8642e-03, -5.4706e-03, -6.0265e-03, -2.9771e-03],\n",
      "        [ 3.5409e-04, -1.9668e-05,  6.5508e-04,  3.0454e-04],\n",
      "        [ 9.0658e-02, -2.9620e-03,  1.6411e-01,  7.6355e-02],\n",
      "        [-6.2518e-04,  6.8774e-05, -1.2158e-03, -5.6422e-04],\n",
      "        [ 2.9337e-03, -4.7856e-03,  1.3469e-02,  6.1252e-03]])\n",
      "Bias:  Parameter containing:\n",
      "tensor([ 0.1947, -0.0958, -0.0992,  0.1769, -0.0610, -0.2224],\n",
      "       requires_grad=True)\n",
      "Bias gradient:  tensor([-1.5262e-05, -6.2766e-04, -7.4000e-07,  3.5249e-05,  4.9963e-06,\n",
      "        -5.0707e-04])\n",
      "\n",
      "Layer:  1\n",
      "LeakyReLU(negative_slope=0.01)\n",
      "\n",
      "Layer:  2\n",
      "Weight:  Parameter containing:\n",
      "tensor([[-0.2850,  0.0731,  0.1239,  0.1504,  0.0445, -0.0171],\n",
      "        [-0.2400, -0.2554,  0.0646,  0.1354,  0.3543, -0.2722],\n",
      "        [ 0.0261,  0.1277, -0.0336, -0.2225,  0.3324,  0.0135]],\n",
      "       requires_grad=True)\n",
      "Weight gradient:  tensor([[ 2.1891e-01,  1.6698e-01, -1.0621e-03,  1.1678e-01, -2.0135e-03,\n",
      "          2.8823e-01],\n",
      "        [-3.6390e-03,  3.7789e-03, -4.9001e-05, -1.5770e-05,  4.4264e-05,\n",
      "          2.5278e-03],\n",
      "        [-2.1527e-01, -1.7076e-01,  1.1111e-03, -1.1676e-01,  1.9692e-03,\n",
      "         -2.9076e-01]])\n",
      "Bias:  Parameter containing:\n",
      "tensor([ 0.2527, -0.2923,  0.3477], requires_grad=True)\n",
      "Bias gradient:  tensor([-0.0016,  0.0018, -0.0002])\n"
     ]
    }
   ],
   "source": [
    "#access each layers gradients\n",
    "for layer in range(3):\n",
    "    print('\\nLayer: ',layer)\n",
    "    if 'weight' in model[layer].state_dict():\n",
    "        print('Weight: ',model[layer].weight)\n",
    "        print('Weight gradient: ',model[layer].weight.grad)\n",
    "        print('Bias: ',model[layer].bias)\n",
    "        print('Bias gradient: ',model[layer].bias.grad)\n",
    "    else:\n",
    "        print(model[layer])"
   ]
  },
  {
   "cell_type": "markdown",
   "metadata": {},
   "source": [
    "## 2.4 Writing our first training loop\n",
    "\n",
    "1. Create model\n",
    "2. Choose loss function\n",
    "3. Create a dataset\n",
    "4. Define an optimizer\n",
    "5. Run a training loop, where for each sample of the dataset, we repeat:\n",
    "    - Calculating loss (forward pass)\n",
    "    - Calculating local gradients\n",
    "    - Updating model parameters"
   ]
  },
  {
   "cell_type": "code",
   "execution_count": 202,
   "metadata": {},
   "outputs": [],
   "source": [
    "#use diabetes  dataset for regression problem example\n",
    "from sklearn import datasets \n",
    "diabetes = datasets.load_diabetes()\n",
    "X = diabetes.data\n",
    "y = diabetes.target\n",
    "#create torch dataset\n",
    "diabetes_dataset = TensorDataset(torch.tensor(X).float(),torch.tensor(y).float())\n",
    "#create dataloader\n",
    "diabetes_dataloader = DataLoader(diabetes_dataset, batch_size=4, shuffle=True)"
   ]
  },
  {
   "cell_type": "code",
   "execution_count": 203,
   "metadata": {},
   "outputs": [],
   "source": [
    "#create model\n",
    "model = nn.Sequential(\n",
    "    nn.Linear(10,6),\n",
    "    nn.Linear(6,1))"
   ]
  },
  {
   "cell_type": "code",
   "execution_count": 204,
   "metadata": {},
   "outputs": [],
   "source": [
    "#define loss criteria for regression MSE\n",
    "criterion = nn.MSELoss()\n",
    "#define optimizer\n",
    "optimizer=optim.SGD(model.parameters(),lr=0.001)"
   ]
  },
  {
   "cell_type": "code",
   "execution_count": 221,
   "metadata": {},
   "outputs": [
    {
     "name": "stdout",
     "output_type": "stream",
     "text": [
      "Epoch:  0\n",
      "Epoch:  1\n",
      "Epoch:  2\n",
      "Epoch:  3\n",
      "Epoch:  4\n"
     ]
    }
   ],
   "source": [
    "#loop through dataset multiple times\n",
    "num_epochs=5\n",
    "for epoch in range(num_epochs):\n",
    "    print('Epoch: ',epoch)\n",
    "    for data in diabetes_dataloader:\n",
    "        #set gradients to zero\n",
    "        optimizer.zero_grad()\n",
    "        #get features and target from data loader\n",
    "        features, target = data\n",
    "        #run forward pass\n",
    "        prediction = model(features)\n",
    "        #compute loss \n",
    "        loss = criterion(prediction,target.unsqueeze(1))\n",
    "        #compute gradients\n",
    "        loss.backward()\n",
    "        #update parameters\n",
    "        optimizer.step()"
   ]
  },
  {
   "cell_type": "markdown",
   "metadata": {},
   "source": [
    "# 3. Neural Netwoork Architecture & Hyperparameters\n",
    "\n",
    "Hyperparameters are parameters, often chosen by the user, that control model training. The type of activation function, the number of layers i the model, and the learning rate are all hyperparameters of neural network training.\n",
    "\n",
    "## 3.1 Discovering activation functions between layers\n",
    "\n",
    "### ReLU\n",
    "\n",
    "- Rectified Linear Unit (ReLU)\n",
    "- Overcomes vanishing gradient of sigmoid function\n",
    "- However negative values return null slope"
   ]
  },
  {
   "cell_type": "code",
   "execution_count": 222,
   "metadata": {},
   "outputs": [
    {
     "data": {
      "image/png": "[encoded data removed]",
      "text/plain": [
       "<Figure size 640x480 with 1 Axes>"
      ]
     },
     "metadata": {},
     "output_type": "display_data"
    }
   ],
   "source": [
    "relu = nn.ReLU()\n",
    "x=[i for i in range(-8,9,1)]\n",
    "y=[relu(torch.tensor(i)).item() for i in x]\n",
    "plt.plot(x,y)\n",
    "plt.title('ReLU Function')\n",
    "plt.show()"
   ]
  },
  {
   "cell_type": "markdown",
   "metadata": {},
   "source": [
    "### Leaky ReLU\n",
    "- similar to ReLU however negative input vals return non null vals"
   ]
  },
  {
   "cell_type": "code",
   "execution_count": 223,
   "metadata": {},
   "outputs": [
    {
     "data": {
      "image/png": "[encoded data removed]",
      "text/plain": [
       "<Figure size 640x480 with 1 Axes>"
      ]
     },
     "metadata": {},
     "output_type": "display_data"
    }
   ],
   "source": [
    "leaky_relu=nn.LeakyReLU(negative_slope=0.05)\n",
    "x=[i*1.0 for i in range(-8,9,1)]\n",
    "y=[leaky_relu(torch.tensor(i)).item() for i in x]\n",
    "plt.plot(x,y)\n",
    "plt.title('Leaky ReLU Function')\n",
    "plt.show()"
   ]
  },
  {
   "cell_type": "markdown",
   "metadata": {},
   "source": [
    "## 3.2 Deeper dive into neural network architecture\n",
    "\n",
    "### Counting Parameters\n",
    "If we have a model structured of:\n",
    "- input layer of 8 neurons\n",
    "- hidden layer of 4 neurons\n",
    "- output layer of 2 neurons\n",
    "\n",
    "We can calculate the number of parameters as such:\n",
    "- Hidden layer has 4 neurons, each neuron has 8 weight and 1 bias parameter = 36 parameters\n",
    "- output layer has 2 neurons, each neuron has 4 weight and 1 bias parameter = 10 parameters\n",
    "- Total = 46 parameters"
   ]
  },
  {
   "cell_type": "code",
   "execution_count": 224,
   "metadata": {},
   "outputs": [
    {
     "name": "stdout",
     "output_type": "stream",
     "text": [
      "46\n"
     ]
    }
   ],
   "source": [
    "model = nn.Sequential(\n",
    "    nn.Linear(8,4),\n",
    "    nn.Linear(4,2)\n",
    "    )\n",
    "\n",
    "# .numel() returns num elements in tensor\n",
    "# iterate over model to sum elements\n",
    "\n",
    "total=0\n",
    "for param in model.parameters():\n",
    "    total+=param.numel()\n",
    "\n",
    "print(total)"
   ]
  },
  {
   "cell_type": "markdown",
   "metadata": {},
   "source": [
    "## 3.3 Learning Rate and Momentum\n",
    "\n",
    "- Learning Rate\n",
    "    - controls the step size during optimization\n",
    "    - values too small lead to long training times\n",
    "    - values too high lead to poor performance\n",
    "    - typical values [10<sup>-4</sup> : 10<sup>-2</sup>]\n",
    "- Momentum\n",
    "    - controls the inertia of the optimizer\n",
    "    - Null momentum leads to optimizer being stuck in local minimum\n",
    "    - Non-null momentum can help find global minimum\n",
    "    - Typical values [0.85 : 0.99]"
   ]
  },
  {
   "cell_type": "markdown",
   "metadata": {},
   "source": [
    "## 3.4 Layer Initialization and transfer learning\n",
    "\n",
    "- layer weights are intialized to small values\n",
    "- layer output can explode if inputs and weights not normalized\n",
    "- weights can be initialized using diff methods (uniform dist etc)"
   ]
  },
  {
   "cell_type": "code",
   "execution_count": 227,
   "metadata": {},
   "outputs": [
    {
     "name": "stdout",
     "output_type": "stream",
     "text": [
      "tensor(-0.1250, grad_fn=<MinBackward1>) tensor(0.1250, grad_fn=<MaxBackward1>)\n"
     ]
    }
   ],
   "source": [
    "#layer initialization\n",
    "layer = nn.Linear(64,128)\n",
    "#print min and max of layer weights\n",
    "print(layer.weight.min(),layer.weight.max())"
   ]
  },
  {
   "cell_type": "code",
   "execution_count": 236,
   "metadata": {},
   "outputs": [
    {
     "data": {
      "text/plain": [
       "Text(0, 0.5, 'Count')"
      ]
     },
     "execution_count": 236,
     "metadata": {},
     "output_type": "execute_result"
    },
    {
     "data": {
      "image/png": "[encoded data removed]",
      "text/plain": [
       "<Figure size 640x480 with 1 Axes>"
      ]
     },
     "metadata": {},
     "output_type": "display_data"
    }
   ],
   "source": [
    "plt.hist(layer.state_dict()['weight'].flatten())\n",
    "plt.title('Weight distribution (default)')\n",
    "plt.xlabel('Weight')\n",
    "plt.ylabel('Count')"
   ]
  },
  {
   "cell_type": "code",
   "execution_count": 237,
   "metadata": {},
   "outputs": [
    {
     "name": "stdout",
     "output_type": "stream",
     "text": [
      "tensor(2.8610e-06, grad_fn=<MinBackward1>) tensor(1.0000, grad_fn=<MaxBackward1>)\n"
     ]
    }
   ],
   "source": [
    "# nn.init allows us to initialize layers with specifications\n",
    "# initialize with uniform dist\n",
    "nn.init.uniform_(layer.weight)\n",
    "print(layer.weight.min(),layer.weight.max())"
   ]
  },
  {
   "cell_type": "code",
   "execution_count": 238,
   "metadata": {},
   "outputs": [
    {
     "data": {
      "text/plain": [
       "Text(0, 0.5, 'Count')"
      ]
     },
     "execution_count": 238,
     "metadata": {},
     "output_type": "execute_result"
    },
    {
     "data": {
      "image/png": "[encoded data removed]",
      "text/plain": [
       "<Figure size 640x480 with 1 Axes>"
      ]
     },
     "metadata": {},
     "output_type": "display_data"
    }
   ],
   "source": [
    "plt.hist(layer.state_dict()['weight'].flatten())\n",
    "plt.title('Weight distribution (uniform)')\n",
    "plt.xlabel('Weight')\n",
    "plt.ylabel('Count')"
   ]
  },
  {
   "cell_type": "code",
   "execution_count": 239,
   "metadata": {},
   "outputs": [
    {
     "name": "stdout",
     "output_type": "stream",
     "text": [
      "tensor(-3.7939, grad_fn=<MinBackward1>) tensor(3.8535, grad_fn=<MaxBackward1>)\n"
     ]
    }
   ],
   "source": [
    "# initialize with normal dist\n",
    "nn.init.normal_(layer.weight)\n",
    "print(layer.weight.min(),layer.weight.max())"
   ]
  },
  {
   "cell_type": "code",
   "execution_count": 240,
   "metadata": {},
   "outputs": [
    {
     "data": {
      "text/plain": [
       "Text(0, 0.5, 'Count')"
      ]
     },
     "execution_count": 240,
     "metadata": {},
     "output_type": "execute_result"
    },
    {
     "data": {
      "image/png": "[encoded data removed]",
      "text/plain": [
       "<Figure size 640x480 with 1 Axes>"
      ]
     },
     "metadata": {},
     "output_type": "display_data"
    }
   ],
   "source": [
    "plt.hist(layer.state_dict()['weight'].flatten())\n",
    "plt.title('Weight distribution (normal)')\n",
    "plt.xlabel('Weight')\n",
    "plt.ylabel('Count')"
   ]
  },
  {
   "cell_type": "markdown",
   "metadata": {},
   "source": [
    "### Transfer Learning\n",
    "\n",
    "Taking weight trained on an initial model being used as a starting point for similar problem, accelerates training process\n",
    "\n",
    "E.g. model initially trained on water quality in USA, weights can be used as starting point for water quality model in Canada"
   ]
  },
  {
   "cell_type": "code",
   "execution_count": 241,
   "metadata": {},
   "outputs": [],
   "source": [
    "#save weights\n",
    "torch.save(layer, './weights/norm_dist_layer.pth')"
   ]
  },
  {
   "cell_type": "code",
   "execution_count": 242,
   "metadata": {},
   "outputs": [],
   "source": [
    "#load weights\n",
    "new_layer = torch.load('./weights/norm_dist_layer.pth')"
   ]
  },
  {
   "cell_type": "markdown",
   "metadata": {},
   "source": [
    "### Fine tuning\n",
    "\n",
    "A subset of transfer learning where we use previously trained weights as starting point for further training on new related dataset\n",
    "\n",
    "Generally:\n",
    "- Smaller learning rate\n",
    "- Not every layer is trained (we freeze some layers)\n",
    "- Freeze early layers of network, fine-tune layers closer to output"
   ]
  },
  {
   "cell_type": "code",
   "execution_count": 245,
   "metadata": {},
   "outputs": [
    {
     "name": "stdout",
     "output_type": "stream",
     "text": [
      "Name: 0.weight\n",
      "Requires gradient: False\n",
      "Name: 0.bias\n",
      "Requires gradient: True\n",
      "Name: 1.weight\n",
      "Requires gradient: True\n",
      "Name: 1.bias\n",
      "Requires gradient: True\n"
     ]
    }
   ],
   "source": [
    "model = nn.Sequential(\n",
    "    nn.Linear(64,128),\n",
    "    nn.Linear(128,256))\n",
    "\n",
    "#iterate through parameters\n",
    "for name, param in model.named_parameters():\n",
    "    print(f'Name: {name}')\n",
    "\n",
    "    #freeze gradients of layer 0\n",
    "    if name == '0.weight':\n",
    "        param.requires_grad=False\n",
    "        print(f'Requires gradient: {param.requires_grad}')\n",
    "    else:\n",
    "        print(f'Requires gradient: {param.requires_grad}')"
   ]
  },
  {
   "cell_type": "markdown",
   "metadata": {},
   "source": [
    "# 4. Evaluating and Improving Models\n",
    "Training a deep learning model is an art, and to make sure our model is trained correctly, we need to keep track of certain metrics during training, such as the loss or the accuracy. We will earn how to calculate such metrics and how to reduce overfitting using an image dataset as an example\n",
    "\n",
    "## 4.1 A deeper dive into loading data"
   ]
  },
  {
   "cell_type": "code",
   "execution_count": 247,
   "metadata": {},
   "outputs": [
    {
     "data": {
      "text/html": [
       "<div>\n",
       "<style scoped>\n",
       "    .dataframe tbody tr th:only-of-type {\n",
       "        vertical-align: middle;\n",
       "    }\n",
       "\n",
       "    .dataframe tbody tr th {\n",
       "        vertical-align: top;\n",
       "    }\n",
       "\n",
       "    .dataframe thead th {\n",
       "        text-align: right;\n",
       "    }\n",
       "</style>\n",
       "<table border=\"1\" class=\"dataframe\">\n",
       "  <thead>\n",
       "    <tr style=\"text-align: right;\">\n",
       "      <th></th>\n",
       "      <th>animal_name</th>\n",
       "      <th>hair</th>\n",
       "      <th>feathers</th>\n",
       "      <th>eggs</th>\n",
       "      <th>milk</th>\n",
       "      <th>predator</th>\n",
       "      <th>fins</th>\n",
       "      <th>legs</th>\n",
       "      <th>tail</th>\n",
       "      <th>type</th>\n",
       "    </tr>\n",
       "  </thead>\n",
       "  <tbody>\n",
       "    <tr>\n",
       "      <th>0</th>\n",
       "      <td>skimmer</td>\n",
       "      <td>0</td>\n",
       "      <td>1</td>\n",
       "      <td>1</td>\n",
       "      <td>0</td>\n",
       "      <td>1</td>\n",
       "      <td>0</td>\n",
       "      <td>2</td>\n",
       "      <td>1</td>\n",
       "      <td>2</td>\n",
       "    </tr>\n",
       "    <tr>\n",
       "      <th>1</th>\n",
       "      <td>gull</td>\n",
       "      <td>0</td>\n",
       "      <td>1</td>\n",
       "      <td>1</td>\n",
       "      <td>0</td>\n",
       "      <td>1</td>\n",
       "      <td>0</td>\n",
       "      <td>2</td>\n",
       "      <td>1</td>\n",
       "      <td>2</td>\n",
       "    </tr>\n",
       "    <tr>\n",
       "      <th>2</th>\n",
       "      <td>seahorse</td>\n",
       "      <td>0</td>\n",
       "      <td>0</td>\n",
       "      <td>1</td>\n",
       "      <td>0</td>\n",
       "      <td>0</td>\n",
       "      <td>1</td>\n",
       "      <td>0</td>\n",
       "      <td>1</td>\n",
       "      <td>4</td>\n",
       "    </tr>\n",
       "    <tr>\n",
       "      <th>3</th>\n",
       "      <td>tuuatara</td>\n",
       "      <td>0</td>\n",
       "      <td>0</td>\n",
       "      <td>1</td>\n",
       "      <td>0</td>\n",
       "      <td>1</td>\n",
       "      <td>0</td>\n",
       "      <td>4</td>\n",
       "      <td>1</td>\n",
       "      <td>3</td>\n",
       "    </tr>\n",
       "    <tr>\n",
       "      <th>4</th>\n",
       "      <td>squirrel</td>\n",
       "      <td>1</td>\n",
       "      <td>0</td>\n",
       "      <td>0</td>\n",
       "      <td>1</td>\n",
       "      <td>0</td>\n",
       "      <td>0</td>\n",
       "      <td>2</td>\n",
       "      <td>1</td>\n",
       "      <td>1</td>\n",
       "    </tr>\n",
       "  </tbody>\n",
       "</table>\n",
       "</div>"
      ],
      "text/plain": [
       "  animal_name  hair  feathers  eggs  milk  predator  fins  legs  tail  type\n",
       "0     skimmer     0         1     1     0         1     0     2     1     2\n",
       "1        gull     0         1     1     0         1     0     2     1     2\n",
       "2    seahorse     0         0     1     0         0     1     0     1     4\n",
       "3    tuuatara     0         0     1     0         1     0     4     1     3\n",
       "4    squirrel     1         0     0     1         0     0     2     1     1"
      ]
     },
     "execution_count": 247,
     "metadata": {},
     "output_type": "execute_result"
    }
   ],
   "source": [
    "# we can load data from a local csv via pandas\n",
    "animals=pd.read_csv('./data/animals.csv')\n",
    "animals"
   ]
  },
  {
   "cell_type": "code",
   "execution_count": 249,
   "metadata": {},
   "outputs": [
    {
     "name": "stdout",
     "output_type": "stream",
     "text": [
      "[[0. 1. 1. 0. 1. 0. 2. 1.]\n",
      " [0. 1. 1. 0. 1. 0. 2. 1.]\n",
      " [0. 0. 1. 0. 0. 1. 0. 1.]\n",
      " [0. 0. 1. 0. 1. 0. 4. 1.]\n",
      " [1. 0. 0. 1. 0. 0. 2. 1.]]\n"
     ]
    }
   ],
   "source": [
    "# we can use column indexing to select our input features\n",
    "features=animals[animals.columns[1:-1]]\n",
    "# transform to float data type\n",
    "X=np.array(features).astype(float)\n",
    "print(X)"
   ]
  },
  {
   "cell_type": "code",
   "execution_count": 251,
   "metadata": {},
   "outputs": [
    {
     "name": "stdout",
     "output_type": "stream",
     "text": [
      "[2. 2. 4. 3. 1.]\n"
     ]
    }
   ],
   "source": [
    "#we can extract the \"type\" column as our target variable\n",
    "target=animals[animals.columns[-1]]\n",
    "y=np.array(target).astype(float)\n",
    "print(y)"
   ]
  },
  {
   "cell_type": "markdown",
   "metadata": {},
   "source": [
    "### TensorDataset\n",
    "TensorDataset is a class to setup a PyTorch dataset for tensors"
   ]
  },
  {
   "cell_type": "code",
   "execution_count": 252,
   "metadata": {},
   "outputs": [],
   "source": [
    "#instantiate dataset class\n",
    "dataset=TensorDataset(torch.tensor(X).float(), torch.tensor(y).float())"
   ]
  },
  {
   "cell_type": "code",
   "execution_count": 253,
   "metadata": {},
   "outputs": [
    {
     "name": "stdout",
     "output_type": "stream",
     "text": [
      "input_sample:  tensor([0., 1., 1., 0., 1., 0., 2., 1.])\n",
      "label_sample:  tensor(2.)\n"
     ]
    }
   ],
   "source": [
    "#accessing an individual sample\n",
    "sample = dataset[0]\n",
    "# dataset indexing returns tuple of input and label\n",
    "input_sample, label_sample = sample\n",
    "print('input_sample: ',input_sample)\n",
    "print('label_sample: ',label_sample)"
   ]
  },
  {
   "cell_type": "markdown",
   "metadata": {},
   "source": [
    "### DataLoader\n",
    "This class accepts a PyTorch dataset and provides the ability to iterate through data via batching"
   ]
  },
  {
   "cell_type": "code",
   "execution_count": 254,
   "metadata": {},
   "outputs": [],
   "source": [
    "#create dataloader object\n",
    "dataloader=DataLoader(dataset,batch_size=2,shuffle=True)"
   ]
  },
  {
   "cell_type": "code",
   "execution_count": 255,
   "metadata": {},
   "outputs": [
    {
     "name": "stdout",
     "output_type": "stream",
     "text": [
      "batch_inputs:  tensor([[0., 1., 1., 0., 1., 0., 2., 1.],\n",
      "        [0., 0., 1., 0., 1., 0., 4., 1.]])\n",
      "batch_labels:  tensor([2., 3.])\n",
      "batch_inputs:  tensor([[1., 0., 0., 1., 0., 0., 2., 1.],\n",
      "        [0., 1., 1., 0., 1., 0., 2., 1.]])\n",
      "batch_labels:  tensor([1., 2.])\n",
      "batch_inputs:  tensor([[0., 0., 1., 0., 0., 1., 0., 1.]])\n",
      "batch_labels:  tensor([4.])\n"
     ]
    }
   ],
   "source": [
    "#iterate over dataloader\n",
    "for batch_inputs, batch_labels in dataloader:\n",
    "    print('batch_inputs: ',batch_inputs)\n",
    "    print('batch_labels: ',batch_labels)"
   ]
  },
  {
   "cell_type": "markdown",
   "metadata": {},
   "source": [
    "## 4.2 Evaluating Model Performance\n",
    "\n",
    "Datasets will be divided into 3 subsets:\n",
    "- Training: ~80% of our data used to adjust model parameters\n",
    "- Validation: ~10-15% of data used for hyperparameter tuning\n",
    "- Testing ~5-10% only used once to calculate final metrics\n"
   ]
  },
  {
   "cell_type": "code",
   "execution_count": 267,
   "metadata": {},
   "outputs": [],
   "source": [
    "#use iris dataset for example\n",
    "from sklearn import datasets \n",
    "iris = datasets.load_iris()\n",
    "X = iris.data\n",
    "y = iris.target\n",
    "#create torch dataset\n",
    "dataset = TensorDataset(torch.tensor(X).float(),torch.tensor(y).float())\n",
    "#split to train(80%), test(10%) and valid(10%)\n",
    "train_dataset, test_dataset, valid_dataset = torch.utils.data.random_split(dataset,[0.8,0.1,0.1])\n",
    "#create trainloader, validationloader, dataloader\n",
    "trainloader = DataLoader(train_dataset, batch_size=2, shuffle=True)\n",
    "validloader = DataLoader(valid_dataset, batch_size=2, shuffle=True)\n",
    "testloader = DataLoader(test_dataset, batch_size=2, shuffle=True)"
   ]
  },
  {
   "cell_type": "code",
   "execution_count": 268,
   "metadata": {},
   "outputs": [],
   "source": [
    "#create model\n",
    "model=nn.Sequential(\n",
    "    nn.Linear(4,8),\n",
    "    nn.Linear(8,3),\n",
    "    nn.Softmax()\n",
    ")"
   ]
  },
  {
   "cell_type": "markdown",
   "metadata": {},
   "source": [
    "### Calculating Training Loss\n",
    "For each epoch:\n",
    "- we sum up the loss for each iteration of training set dataloader\n",
    "- at the end of epoch we calculate the mean training loss"
   ]
  },
  {
   "cell_type": "code",
   "execution_count": 278,
   "metadata": {},
   "outputs": [
    {
     "name": "stdout",
     "output_type": "stream",
     "text": [
      "Epoch:  0\n",
      "epoch_loss:  1.126719937950912\n",
      "Epoch:  1\n",
      "epoch_loss:  1.1081453449571788\n",
      "Epoch:  2\n",
      "epoch_loss:  1.0949575374985072\n",
      "Epoch:  3\n",
      "epoch_loss:  1.0857142755855236\n",
      "Epoch:  4\n",
      "epoch_loss:  1.078660782466581\n"
     ]
    }
   ],
   "source": [
    "#instantiate cross entropy loss object\n",
    "criterion = nn.CrossEntropyLoss()\n",
    "#define optimizer\n",
    "optimizer=optim.SGD(model.parameters(),lr=0.001)\n",
    "num_epochs=5\n",
    "\n",
    "\n",
    "for epoch in range(num_epochs):\n",
    "    training_loss=0.0\n",
    "    print('Epoch: ',epoch)\n",
    "    for inputs, labels in trainloader:\n",
    "        #set gradients to 0\n",
    "        optimizer.zero_grad()\n",
    "        #run forward pass\n",
    "        preds = model(inputs)\n",
    "        #encode true labels as 1-hot encoded\n",
    "        one_hot = F.one_hot(labels.long(),num_classes=3)\n",
    "        #return loss value comparing predicted to ground truth\n",
    "        loss = criterion(preds.double(),one_hot.double())\n",
    "        #update training loss\n",
    "        training_loss+=loss.item()\n",
    "        #calculate gradients\n",
    "        loss.backward()\n",
    "        #update parameters\n",
    "        optimizer.step()\n",
    "    epoch_loss = training_loss/len(trainloader)\n",
    "    print('epoch_loss: ',epoch_loss)"
   ]
  },
  {
   "cell_type": "markdown",
   "metadata": {},
   "source": [
    "### Calculating Validation Loss\n",
    "After the training epoch, we iterate over the validation set and calculate the average validation loss"
   ]
  },
  {
   "cell_type": "code",
   "execution_count": 288,
   "metadata": {},
   "outputs": [
    {
     "name": "stdout",
     "output_type": "stream",
     "text": [
      "epoch_loss:  1.0837677222906232\n"
     ]
    },
    {
     "data": {
      "text/plain": [
       "Sequential(\n",
       "  (0): Linear(in_features=4, out_features=8, bias=True)\n",
       "  (1): Linear(in_features=8, out_features=3, bias=True)\n",
       "  (2): Softmax(dim=None)\n",
       ")"
      ]
     },
     "execution_count": 288,
     "metadata": {},
     "output_type": "execute_result"
    }
   ],
   "source": [
    "validation_loss=0.0\n",
    "#put model into evaluation mode\n",
    "model.eval()\n",
    "#no need to update gradients\n",
    "with torch.no_grad():\n",
    "    for inputs,labels in validloader:\n",
    "        #run forward pass\n",
    "        preds = model(inputs)\n",
    "        #encode true labels as 1-hot encoded\n",
    "        one_hot = F.one_hot(labels.long(),num_classes=3)\n",
    "        #return loss value comparing predicted to ground truth\n",
    "        loss = criterion(preds.double(),one_hot.double())\n",
    "        validation_loss+=loss.item()\n",
    "epoch_loss = validation_loss/len(validloader)\n",
    "print('epoch_loss: ',epoch_loss)\n",
    "#return to training mode\n",
    "model.train()"
   ]
  },
  {
   "cell_type": "markdown",
   "metadata": {},
   "source": [
    "### Calculating accuracy with torchmetrics\n"
   ]
  },
  {
   "cell_type": "code",
   "execution_count": 313,
   "metadata": {},
   "outputs": [
    {
     "name": "stdout",
     "output_type": "stream",
     "text": [
      "Accuracy on all data: 0.6666666865348816\n"
     ]
    }
   ],
   "source": [
    "#create accuracy metric using torch metrics\n",
    "metric = torchmetrics.Accuracy(task='multiclass',num_classes=3)\n",
    "# iterate over validation set\n",
    "for inputs,labels in validloader:\n",
    "    #forward pass\n",
    "    preds=model(inputs)\n",
    "    #calculate accuracy over the batch\n",
    "    acc = metric(preds.argmax(dim=-1),labels)\n",
    "#calculate accuracy over the whole epoch\n",
    "acc=metric.compute()\n",
    "print(f'Accuracy on all data: {acc}')\n",
    "#Reset metric for the next epoch (training or validation)\n",
    "metric.reset()"
   ]
  },
  {
   "cell_type": "markdown",
   "metadata": {},
   "source": [
    "## 4.3 Fighting Overfitting\n",
    "\n",
    "Overfitting: the model does not generalize to unseen data.\n",
    "- model memorizes training data\n",
    "- good performance on the training set/poor performance on validation set\n",
    "\n",
    "Possible causes:\n",
    "- Dataset is not large neough\n",
    "    - Solution: Get more data/augment existing data\n",
    "- Model hass too much capacity\n",
    "    - Solution: Reduce model size/add dropout\n",
    "- Weights are too large\n",
    "    - Solution: Weight decay\n",
    "\n",
    "\n",
    "### \"Regularization\" using a **dropout** layer\n",
    "- A random fraction of input neurons are set to 0 *during training*\n",
    "- Corresponding connections are temporarily removed from the network, making model less likely to over rely on specific features\n",
    "- Important note: dropout behaves different for train and valid, must remeber to change modes `model.train()` and `model.eval()` as appropriate"
   ]
  },
  {
   "cell_type": "code",
   "execution_count": 345,
   "metadata": {},
   "outputs": [
    {
     "data": {
      "text/plain": [
       "tensor([[0.0324, 1.1737, 0.1897, 0.0000, 0.2462, 0.0000, 0.0000, 0.0000, 0.7157,\n",
       "         0.0000]], grad_fn=<MulBackward0>)"
      ]
     },
     "execution_count": 345,
     "metadata": {},
     "output_type": "execute_result"
    }
   ],
   "source": [
    "#create model with dropout layer\n",
    "model = nn.Sequential(\n",
    "    nn.Linear(16,10),\n",
    "    nn.ReLU(), #drop out layers generally go after activation functions\n",
    "    nn.Dropout(p=0.10) # p = probability of drop out (10% of neurons will be set to 0)\n",
    ")\n",
    "features=torch.randn((1,16)).float()\n",
    "model(features)"
   ]
  },
  {
   "cell_type": "markdown",
   "metadata": {},
   "source": [
    "### \"Regularization\" using a **weight decay**\n",
    "\n",
    "`optimizer = optim.SGD(model.parameters(), lr=1e-3, weight_decay=1e-4)`\n",
    "\n",
    "- Optimizer weight_decay parameter takes value between zero and one\n",
    "    - Typically small value e.g. 1e-3\n",
    "- Weight decay adds penalty to loss function to discourage large weights and biases\n",
    "    - Similar to lasso regression\n",
    "- The higher the parameter, the less likely the model is to overfit"
   ]
  },
  {
   "cell_type": "markdown",
   "metadata": {},
   "source": [
    "## 4.4 Improving Model Performance\n",
    "\n",
    "### Steps to maximize performance\n",
    "- Overfit the training set\n",
    "    - If we can overfit a model to training set we can solve the problem\n",
    "    - This will give us a performance baseline to compare with the validation set\n",
    "- Reduce overfitting\n",
    "    - This will help us improve perfomances on the validation set\n",
    "- Fine-tune hyperparameters\n",
    "    - Slightly adjust hyperparameters to ensure we achieve best possible performance\n",
    "\n",
    "### Step 1: Overfit the training set\n",
    "Modify the training loop to overfit a single data point (batch size of 1)\n"
   ]
  },
  {
   "cell_type": "code",
   "execution_count": 349,
   "metadata": {},
   "outputs": [
    {
     "name": "stdout",
     "output_type": "stream",
     "text": [
      "features:  tensor([[4.9000, 3.1000, 1.5000, 0.1000]])\n",
      "labels:  tensor([0.])\n"
     ]
    }
   ],
   "source": []
  },
  {
   "cell_type": "code",
   "execution_count": 382,
   "metadata": {},
   "outputs": [
    {
     "name": "stdout",
     "output_type": "stream",
     "text": [
      "features:  tensor([[7.7000, 3.8000, 6.7000, 2.2000]])\n",
      "labels:  tensor([2.])\n",
      "0 of 1000\n",
      "preds:  tensor([[0.3255, 0.2643, 0.4102]], grad_fn=<SoftmaxBackward0>)\n",
      "loss:  1.0234966278076172\n",
      "accuracy:  tensor(1.)\n",
      "100 of 1000\n",
      "preds:  tensor([[0., 0., 1.]], grad_fn=<SoftmaxBackward0>)\n",
      "loss:  0.5514447093009949\n",
      "accuracy:  tensor(1.)\n"
     ]
    },
    {
     "name": "stderr",
     "output_type": "stream",
     "text": [
      "c:\\Users\\Ciaran\\Documents\\Python Scripts\\Data Camp\\.venv\\Lib\\site-packages\\torch\\nn\\modules\\module.py:1518: UserWarning: Implicit dimension choice for softmax has been deprecated. Change the call to include dim=X as an argument.\n",
      "  return self._call_impl(*args, **kwargs)\n"
     ]
    },
    {
     "name": "stdout",
     "output_type": "stream",
     "text": [
      "200 of 1000\n",
      "preds:  tensor([[0., 0., 1.]], grad_fn=<SoftmaxBackward0>)\n",
      "loss:  0.5514447093009949\n",
      "accuracy:  tensor(1.)\n",
      "300 of 1000\n",
      "preds:  tensor([[0., 0., 1.]], grad_fn=<SoftmaxBackward0>)\n",
      "loss:  0.5514447093009949\n",
      "accuracy:  tensor(1.)\n",
      "400 of 1000\n",
      "preds:  tensor([[0., 0., 1.]], grad_fn=<SoftmaxBackward0>)\n",
      "loss:  0.5514447093009949\n",
      "accuracy:  tensor(1.)\n",
      "500 of 1000\n",
      "preds:  tensor([[0., 0., 1.]], grad_fn=<SoftmaxBackward0>)\n",
      "loss:  0.5514447093009949\n",
      "accuracy:  tensor(1.)\n",
      "600 of 1000\n",
      "preds:  tensor([[0., 0., 1.]], grad_fn=<SoftmaxBackward0>)\n",
      "loss:  0.5514447093009949\n",
      "accuracy:  tensor(1.)\n",
      "700 of 1000\n",
      "preds:  tensor([[0., 0., 1.]], grad_fn=<SoftmaxBackward0>)\n",
      "loss:  0.5514447093009949\n",
      "accuracy:  tensor(1.)\n",
      "800 of 1000\n",
      "preds:  tensor([[0., 0., 1.]], grad_fn=<SoftmaxBackward0>)\n",
      "loss:  0.5514447093009949\n",
      "accuracy:  tensor(1.)\n",
      "900 of 1000\n",
      "preds:  tensor([[0., 0., 1.]], grad_fn=<SoftmaxBackward0>)\n",
      "loss:  0.5514447093009949\n",
      "accuracy:  tensor(1.)\n"
     ]
    }
   ],
   "source": [
    "#create model\n",
    "model=nn.Sequential(\n",
    "    nn.Linear(4,8),\n",
    "    nn.ReLU(),\n",
    "    nn.Linear(8,8),\n",
    "    nn.ReLU(),\n",
    "    nn.Linear(8,8),\n",
    "    nn.ReLU(),\n",
    "    nn.Linear(8,3),\n",
    "    nn.Softmax()\n",
    ")\n",
    "\n",
    "#select bacth of 1\n",
    "trainloader = DataLoader(train_dataset, batch_size=1, shuffle=True)\n",
    "features, labels = next(iter(trainloader))\n",
    "print('features: ',features)\n",
    "print('labels: ',labels)\n",
    "\n",
    "#define loss criteria\n",
    "criterion=nn.CrossEntropyLoss()\n",
    "#create accuracy metric using torch metrics\n",
    "metric = torchmetrics.Accuracy(task='multiclass',num_classes=3)\n",
    "#create an optimizer\n",
    "optimizer = optim.SGD(model.parameters(),lr=0.1)\n",
    "\n",
    "for i in range(1000):\n",
    "    #forward pass\n",
    "    preds=model(features)\n",
    "    #convert label to 1-hot\n",
    "    one_hot = F.one_hot(labels.long(),num_classes=3)\n",
    "    #calculate loss\n",
    "    loss=criterion(preds,labels.long())\n",
    "    #calculate accuracy\n",
    "    acc = metric(preds.argmax(dim=-1),labels)\n",
    "    #calculate gradients\n",
    "    loss.backward()\n",
    "    #update weights\n",
    "    optimizer.step()\n",
    "    if i%100 == 0:\n",
    "        print(f'{i} of 1000')\n",
    "        print('preds: ',preds)\n",
    "        print('loss: ',loss.item())\n",
    "        print('accuracy: ',acc)"
   ]
  },
  {
   "cell_type": "markdown",
   "metadata": {},
   "source": [
    "### Step 2: Overfit the training set\n",
    "Modify the training loop to overfit a single data point (batch size of 1)\n"
   ]
  },
  {
   "cell_type": "code",
   "execution_count": 369,
   "metadata": {},
   "outputs": [
    {
     "data": {
      "text/plain": [
       "tensor([[0.0966, 0.2343, 0.6691]], grad_fn=<SoftmaxBackward0>)"
      ]
     },
     "execution_count": 369,
     "metadata": {},
     "output_type": "execute_result"
    }
   ],
   "source": [
    "preds"
   ]
  },
  {
   "cell_type": "code",
   "execution_count": 371,
   "metadata": {},
   "outputs": [
    {
     "data": {
      "text/plain": [
       "tensor([0.])"
      ]
     },
     "execution_count": 371,
     "metadata": {},
     "output_type": "execute_result"
    }
   ],
   "source": [
    "labels"
   ]
  },
  {
   "cell_type": "code",
   "execution_count": 377,
   "metadata": {},
   "outputs": [
    {
     "data": {
      "text/plain": [
       "tensor(1.3662, grad_fn=<NllLossBackward0>)"
      ]
     },
     "execution_count": 377,
     "metadata": {},
     "output_type": "execute_result"
    }
   ],
   "source": []
  },
  {
   "cell_type": "code",
   "execution_count": null,
   "metadata": {},
   "outputs": [],
   "source": [
    "#loop through dataset multiple times\n",
    "\n",
    "for epoch in range(num_epochs):\n",
    "    print('Epoch: ',epoch)\n",
    "    for data in diabetes_dataloader:\n",
    "        #set gradients to zero\n",
    "        optimizer.zero_grad()\n",
    "        #get features and target from data loader\n",
    "        features, target = data\n",
    "        #run forward pass\n",
    "        prediction = model(features)\n",
    "        #compute loss \n",
    "        loss = criterion(prediction,target.unsqueeze(1))\n",
    "        #compute gradients\n",
    "        loss.backward()\n",
    "        #update parameters\n",
    "        optimizer.step()"
   ]
  },
  {
   "cell_type": "code",
   "execution_count": 264,
   "metadata": {},
   "outputs": [
    {
     "data": {
      "text/plain": [
       "15"
      ]
     },
     "execution_count": 264,
     "metadata": {},
     "output_type": "execute_result"
    }
   ],
   "source": [
    "len(test_dataset)"
   ]
  },
  {
   "cell_type": "code",
   "execution_count": 265,
   "metadata": {},
   "outputs": [
    {
     "data": {
      "text/plain": [
       "15"
      ]
     },
     "execution_count": 265,
     "metadata": {},
     "output_type": "execute_result"
    }
   ],
   "source": [
    "len(valid_dataset)"
   ]
  },
  {
   "cell_type": "code",
   "execution_count": null,
   "metadata": {},
   "outputs": [],
   "source": [
    "\n",
    "# iterate over validation set\n",
    "for inputs,labels in validloader:\n",
    "    #forward pass\n",
    "    preds=model(inputs)\n",
    "    #calculate accuracy over the batch\n",
    "    acc = metric(preds.argmax(dim=-1),labels)\n",
    "#calculate accuracy over the whole epoch\n",
    "acc=metric.compute()\n",
    "print(f'Accuracy on all data: {acc}')\n",
    "#Reset metric for the next epoch (training or validation)\n",
    "metric.reset()"
   ]
  }
 ],
 "metadata": {
  "kernelspec": {
   "display_name": "Python 3",
   "language": "python",
   "name": "python3"
  },
  "language_info": {
   "codemirror_mode": {
    "name": "ipython",
    "version": 3
   },
   "file_extension": ".py",
   "mimetype": "text/x-python",
   "name": "python",
   "nbconvert_exporter": "python",
   "pygments_lexer": "ipython3",
   "version": "3.11.5"
  }
 },
 "nbformat": 4,
 "nbformat_minor": 2
}
